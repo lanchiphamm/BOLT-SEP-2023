{
 "cells": [
  {
   "cell_type": "markdown",
   "id": "5f4db09f-4c6f-40b0-8369-98cc10c682bc",
   "metadata": {
    "tags": []
   },
   "source": [
    "# Data Analysis Report for BYTE\n",
    "## First Place (1st/49 Teams) at BOLT UBC First Byte Datathon Sep 2023\n",
    "#### Author: Chi Pham  \n",
    "#### Team Members: Khoa Bui, Chi Pham, Finn Pham, Wendy Phung  \n",
    "#### Summary: The analysis supports our recommendations on how to increase sales and profits for a retail company named B/YTE. The analysis uses a data set provided with the case."
   ]
  },
  {
   "cell_type": "code",
   "execution_count": 1,
   "id": "3e0a37a3-99e9-443e-a8d6-dbfe7407eaaf",
   "metadata": {},
   "outputs": [
    {
     "data": {
      "text/plain": [
       "RendererRegistry.enable('mimetype')"
      ]
     },
     "execution_count": 1,
     "metadata": {},
     "output_type": "execute_result"
    }
   ],
   "source": [
    "# Libraries\n",
    "import pandas as pd\n",
    "import numpy as np\n",
    "import altair as alt\n",
    "from altair import datum\n",
    "alt.data_transformers.enable('data_server')\n",
    "alt.renderers.enable('mimetype')"
   ]
  },
  {
   "cell_type": "markdown",
   "id": "f253b602-f503-4d92-9064-370d139eeca1",
   "metadata": {
    "jp-MarkdownHeadingCollapsed": true,
    "tags": []
   },
   "source": [
    "## READING & CLEANING"
   ]
  },
  {
   "cell_type": "markdown",
   "id": "31bd399c-f072-4407-b698-c039228021d9",
   "metadata": {
    "jp-MarkdownHeadingCollapsed": true,
    "tags": []
   },
   "source": [
    "### Reading"
   ]
  },
  {
   "cell_type": "code",
   "execution_count": 2,
   "id": "4a184bfa-4fc7-4f75-b285-70de34148acd",
   "metadata": {},
   "outputs": [
    {
     "data": {
      "text/html": [
       "<div>\n",
       "<style scoped>\n",
       "    .dataframe tbody tr th:only-of-type {\n",
       "        vertical-align: middle;\n",
       "    }\n",
       "\n",
       "    .dataframe tbody tr th {\n",
       "        vertical-align: top;\n",
       "    }\n",
       "\n",
       "    .dataframe thead th {\n",
       "        text-align: right;\n",
       "    }\n",
       "</style>\n",
       "<table border=\"1\" class=\"dataframe\">\n",
       "  <thead>\n",
       "    <tr style=\"text-align: right;\">\n",
       "      <th></th>\n",
       "      <th>Date</th>\n",
       "      <th>Customer_ID</th>\n",
       "      <th>Transaction_ID</th>\n",
       "      <th>SKU_Category</th>\n",
       "      <th>SKU</th>\n",
       "      <th>Quantity</th>\n",
       "      <th>Sales_Amount</th>\n",
       "      <th>Operational_Cost</th>\n",
       "      <th>Customer_Age</th>\n",
       "    </tr>\n",
       "  </thead>\n",
       "  <tbody>\n",
       "    <tr>\n",
       "      <th>0</th>\n",
       "      <td>2022-01-02</td>\n",
       "      <td>3686</td>\n",
       "      <td>3</td>\n",
       "      <td>Skirt</td>\n",
       "      <td>CZUZX</td>\n",
       "      <td>1.0</td>\n",
       "      <td>63.5</td>\n",
       "      <td>44.6</td>\n",
       "      <td>51</td>\n",
       "    </tr>\n",
       "    <tr>\n",
       "      <th>1</th>\n",
       "      <td>2022-01-02</td>\n",
       "      <td>3719</td>\n",
       "      <td>4</td>\n",
       "      <td>Skirt</td>\n",
       "      <td>549KK</td>\n",
       "      <td>1.0</td>\n",
       "      <td>55.9</td>\n",
       "      <td>41.1</td>\n",
       "      <td>27</td>\n",
       "    </tr>\n",
       "    <tr>\n",
       "      <th>2</th>\n",
       "      <td>2022-01-02</td>\n",
       "      <td>9200</td>\n",
       "      <td>5</td>\n",
       "      <td>Skirt</td>\n",
       "      <td>K8EHH</td>\n",
       "      <td>1.0</td>\n",
       "      <td>68.8</td>\n",
       "      <td>52.6</td>\n",
       "      <td>39</td>\n",
       "    </tr>\n",
       "    <tr>\n",
       "      <th>3</th>\n",
       "      <td>2022-01-02</td>\n",
       "      <td>1666</td>\n",
       "      <td>7</td>\n",
       "      <td>Shoes</td>\n",
       "      <td>AHZNS</td>\n",
       "      <td>1.0</td>\n",
       "      <td>82.1</td>\n",
       "      <td>56.7</td>\n",
       "      <td>39</td>\n",
       "    </tr>\n",
       "    <tr>\n",
       "      <th>4</th>\n",
       "      <td>2022-01-02</td>\n",
       "      <td>1253</td>\n",
       "      <td>8</td>\n",
       "      <td>Skirt</td>\n",
       "      <td>9STQJ</td>\n",
       "      <td>1.0</td>\n",
       "      <td>82.5</td>\n",
       "      <td>58.7</td>\n",
       "      <td>30</td>\n",
       "    </tr>\n",
       "  </tbody>\n",
       "</table>\n",
       "</div>"
      ],
      "text/plain": [
       "        Date  Customer_ID  Transaction_ID SKU_Category    SKU  Quantity  \\\n",
       "0 2022-01-02         3686               3        Skirt  CZUZX       1.0   \n",
       "1 2022-01-02         3719               4        Skirt  549KK       1.0   \n",
       "2 2022-01-02         9200               5        Skirt  K8EHH       1.0   \n",
       "3 2022-01-02         1666               7        Shoes  AHZNS       1.0   \n",
       "4 2022-01-02         1253               8        Skirt  9STQJ       1.0   \n",
       "\n",
       "   Sales_Amount  Operational_Cost  Customer_Age  \n",
       "0          63.5              44.6            51  \n",
       "1          55.9              41.1            27  \n",
       "2          68.8              52.6            39  \n",
       "3          82.1              56.7            39  \n",
       "4          82.5              58.7            30  "
      ]
     },
     "execution_count": 2,
     "metadata": {},
     "output_type": "execute_result"
    }
   ],
   "source": [
    "df = pd.read_csv('dataset.csv', index_col=0)\n",
    "og_df = pd.read_csv('dataset.csv', index_col=0)\n",
    "df['Date'] = pd.to_datetime(df['Date'], format='%d/%m/%Y', dayfirst=True, errors='coerce')\n",
    "df.head(5)"
   ]
  },
  {
   "cell_type": "code",
   "execution_count": 3,
   "id": "34ed90f7-137c-45c0-8dfa-a767269a0894",
   "metadata": {},
   "outputs": [
    {
     "data": {
      "text/plain": [
       "(61863, 9)"
      ]
     },
     "execution_count": 3,
     "metadata": {},
     "output_type": "execute_result"
    }
   ],
   "source": [
    "# Dimension\n",
    "df.shape"
   ]
  },
  {
   "cell_type": "code",
   "execution_count": 4,
   "id": "b353e3ea-0b23-421f-9720-50abef374ade",
   "metadata": {},
   "outputs": [
    {
     "name": "stdout",
     "output_type": "stream",
     "text": [
      "<class 'pandas.core.frame.DataFrame'>\n",
      "Index: 61863 entries, 0 to 61862\n",
      "Data columns (total 9 columns):\n",
      " #   Column            Non-Null Count  Dtype         \n",
      "---  ------            --------------  -----         \n",
      " 0   Date              61708 non-null  datetime64[ns]\n",
      " 1   Customer_ID       61863 non-null  int64         \n",
      " 2   Transaction_ID    61863 non-null  int64         \n",
      " 3   SKU_Category      61863 non-null  object        \n",
      " 4   SKU               61863 non-null  object        \n",
      " 5   Quantity          61863 non-null  float64       \n",
      " 6   Sales_Amount      61863 non-null  float64       \n",
      " 7   Operational_Cost  61863 non-null  float64       \n",
      " 8   Customer_Age      61863 non-null  int64         \n",
      "dtypes: datetime64[ns](1), float64(3), int64(3), object(2)\n",
      "memory usage: 4.7+ MB\n"
     ]
    }
   ],
   "source": [
    "# Summary\n",
    "df.info()"
   ]
  },
  {
   "cell_type": "markdown",
   "id": "521b45f6-0e73-4969-9911-e322424b0755",
   "metadata": {
    "jp-MarkdownHeadingCollapsed": true,
    "tags": []
   },
   "source": [
    "### Error Cleaning"
   ]
  },
  {
   "cell_type": "markdown",
   "id": "a3cc4f72-4f81-4487-83ce-00ff2e2b7f88",
   "metadata": {},
   "source": [
    "Date is the only column with missing values. Speculation: Feb 29th, 2022 is not a valid date. Hence, when `errors='coerce'` is enforced, data points with this date will return NA"
   ]
  },
  {
   "cell_type": "code",
   "execution_count": 5,
   "id": "7a22b129-e404-40d5-a675-6dd0a94a7cd0",
   "metadata": {},
   "outputs": [
    {
     "data": {
      "text/plain": [
       "(155, 9)"
      ]
     },
     "execution_count": 5,
     "metadata": {},
     "output_type": "execute_result"
    }
   ],
   "source": [
    "og_df[og_df['Date'] == '29/02/2022'].shape"
   ]
  },
  {
   "cell_type": "code",
   "execution_count": 6,
   "id": "a460f587-01b7-4ff4-9a54-c6cf40a6f65b",
   "metadata": {},
   "outputs": [
    {
     "data": {
      "text/plain": [
       "155"
      ]
     },
     "execution_count": 6,
     "metadata": {},
     "output_type": "execute_result"
    }
   ],
   "source": [
    "df['Date'].isnull().sum()"
   ]
  },
  {
   "cell_type": "markdown",
   "id": "84a622c2-f215-4a8f-9cb5-31c649078f84",
   "metadata": {},
   "source": [
    "Speculation confirmed. Our first error is the 155 rows where the date is not real. We will get rid of these 155 rows"
   ]
  },
  {
   "cell_type": "code",
   "execution_count": 7,
   "id": "5240482e-5abb-440b-abd3-3335b1b08a3b",
   "metadata": {},
   "outputs": [],
   "source": [
    "df = df[df['Date'].notnull()]"
   ]
  },
  {
   "cell_type": "markdown",
   "id": "8e593200-4cb8-480c-9b14-6dc3dc898520",
   "metadata": {},
   "source": [
    "Filter out those with invalid quantity and change type to int"
   ]
  },
  {
   "cell_type": "code",
   "execution_count": 8,
   "id": "6b829101-6439-4d41-8fad-8fab51963896",
   "metadata": {},
   "outputs": [
    {
     "data": {
      "text/plain": [
       "(27, 9)"
      ]
     },
     "execution_count": 8,
     "metadata": {},
     "output_type": "execute_result"
    }
   ],
   "source": [
    "df[df['Quantity'] < 1].shape"
   ]
  },
  {
   "cell_type": "code",
   "execution_count": 9,
   "id": "74cf8edc-8ac7-42f1-8a93-607c85879193",
   "metadata": {},
   "outputs": [],
   "source": [
    "df = df[df['Quantity'] >= 1]"
   ]
  },
  {
   "cell_type": "code",
   "execution_count": 10,
   "id": "1921a406-f51e-4ae3-88d1-abe331f8e5f0",
   "metadata": {},
   "outputs": [],
   "source": [
    "df['Quantity'] = df['Quantity'].fillna(0).astype(int)"
   ]
  },
  {
   "cell_type": "markdown",
   "id": "cfa5af5f-c4a3-474f-a647-ef2acad09f6b",
   "metadata": {},
   "source": [
    "Check for duplications in `Transaction_ID`"
   ]
  },
  {
   "cell_type": "code",
   "execution_count": 11,
   "id": "ba3acc91-090f-4e6a-b9bb-f4e4ac0ac520",
   "metadata": {},
   "outputs": [],
   "source": [
    "dup_test_df = df.groupby('Transaction_ID')['Customer_ID'].apply(set)\n",
    "for i in dup_test_df:\n",
    "    if len(i) > 1:\n",
    "        print(i)"
   ]
  },
  {
   "cell_type": "markdown",
   "id": "ea1163ae-faa3-408e-a81a-7745e26c7014",
   "metadata": {},
   "source": [
    "Ensure there are no NAs"
   ]
  },
  {
   "cell_type": "code",
   "execution_count": 12,
   "id": "fd4de0eb-d2e3-4c0e-8517-34ec42a42c69",
   "metadata": {},
   "outputs": [
    {
     "data": {
      "text/plain": [
       "Date                0\n",
       "Customer_ID         0\n",
       "Transaction_ID      0\n",
       "SKU_Category        0\n",
       "SKU                 0\n",
       "Quantity            0\n",
       "Sales_Amount        0\n",
       "Operational_Cost    0\n",
       "Customer_Age        0\n",
       "dtype: int64"
      ]
     },
     "execution_count": 12,
     "metadata": {},
     "output_type": "execute_result"
    }
   ],
   "source": [
    "df.isna().sum()"
   ]
  },
  {
   "cell_type": "markdown",
   "id": "64a740ee-1f67-4453-8047-9c3b2441f782",
   "metadata": {
    "jp-MarkdownHeadingCollapsed": true,
    "tags": []
   },
   "source": [
    "## FEATURE ENGINEERING"
   ]
  },
  {
   "cell_type": "code",
   "execution_count": 13,
   "id": "515dd237-1170-4b6a-822c-17f2abbd5409",
   "metadata": {},
   "outputs": [
    {
     "data": {
      "text/html": [
       "<div>\n",
       "<style scoped>\n",
       "    .dataframe tbody tr th:only-of-type {\n",
       "        vertical-align: middle;\n",
       "    }\n",
       "\n",
       "    .dataframe tbody tr th {\n",
       "        vertical-align: top;\n",
       "    }\n",
       "\n",
       "    .dataframe thead th {\n",
       "        text-align: right;\n",
       "    }\n",
       "</style>\n",
       "<table border=\"1\" class=\"dataframe\">\n",
       "  <thead>\n",
       "    <tr style=\"text-align: right;\">\n",
       "      <th></th>\n",
       "      <th>Date</th>\n",
       "      <th>Customer_ID</th>\n",
       "      <th>Transaction_ID</th>\n",
       "      <th>SKU_Category</th>\n",
       "      <th>SKU</th>\n",
       "      <th>Quantity</th>\n",
       "      <th>Sales_Amount</th>\n",
       "      <th>Operational_Cost</th>\n",
       "      <th>Customer_Age</th>\n",
       "    </tr>\n",
       "  </thead>\n",
       "  <tbody>\n",
       "    <tr>\n",
       "      <th>0</th>\n",
       "      <td>2022-01-02</td>\n",
       "      <td>3686</td>\n",
       "      <td>3</td>\n",
       "      <td>Skirt</td>\n",
       "      <td>CZUZX</td>\n",
       "      <td>1</td>\n",
       "      <td>63.5</td>\n",
       "      <td>44.6</td>\n",
       "      <td>51</td>\n",
       "    </tr>\n",
       "    <tr>\n",
       "      <th>1</th>\n",
       "      <td>2022-01-02</td>\n",
       "      <td>3719</td>\n",
       "      <td>4</td>\n",
       "      <td>Skirt</td>\n",
       "      <td>549KK</td>\n",
       "      <td>1</td>\n",
       "      <td>55.9</td>\n",
       "      <td>41.1</td>\n",
       "      <td>27</td>\n",
       "    </tr>\n",
       "    <tr>\n",
       "      <th>2</th>\n",
       "      <td>2022-01-02</td>\n",
       "      <td>9200</td>\n",
       "      <td>5</td>\n",
       "      <td>Skirt</td>\n",
       "      <td>K8EHH</td>\n",
       "      <td>1</td>\n",
       "      <td>68.8</td>\n",
       "      <td>52.6</td>\n",
       "      <td>39</td>\n",
       "    </tr>\n",
       "    <tr>\n",
       "      <th>3</th>\n",
       "      <td>2022-01-02</td>\n",
       "      <td>1666</td>\n",
       "      <td>7</td>\n",
       "      <td>Shoes</td>\n",
       "      <td>AHZNS</td>\n",
       "      <td>1</td>\n",
       "      <td>82.1</td>\n",
       "      <td>56.7</td>\n",
       "      <td>39</td>\n",
       "    </tr>\n",
       "    <tr>\n",
       "      <th>4</th>\n",
       "      <td>2022-01-02</td>\n",
       "      <td>1253</td>\n",
       "      <td>8</td>\n",
       "      <td>Skirt</td>\n",
       "      <td>9STQJ</td>\n",
       "      <td>1</td>\n",
       "      <td>82.5</td>\n",
       "      <td>58.7</td>\n",
       "      <td>30</td>\n",
       "    </tr>\n",
       "  </tbody>\n",
       "</table>\n",
       "</div>"
      ],
      "text/plain": [
       "        Date  Customer_ID  Transaction_ID SKU_Category    SKU  Quantity  \\\n",
       "0 2022-01-02         3686               3        Skirt  CZUZX         1   \n",
       "1 2022-01-02         3719               4        Skirt  549KK         1   \n",
       "2 2022-01-02         9200               5        Skirt  K8EHH         1   \n",
       "3 2022-01-02         1666               7        Shoes  AHZNS         1   \n",
       "4 2022-01-02         1253               8        Skirt  9STQJ         1   \n",
       "\n",
       "   Sales_Amount  Operational_Cost  Customer_Age  \n",
       "0          63.5              44.6            51  \n",
       "1          55.9              41.1            27  \n",
       "2          68.8              52.6            39  \n",
       "3          82.1              56.7            39  \n",
       "4          82.5              58.7            30  "
      ]
     },
     "execution_count": 13,
     "metadata": {},
     "output_type": "execute_result"
    }
   ],
   "source": [
    "df.head(5)"
   ]
  },
  {
   "cell_type": "markdown",
   "id": "37f470d8-6e29-48d7-9800-f4876daa6cf5",
   "metadata": {},
   "source": [
    "Extract `day_of_week` from `Date` column. Values: Monday, Tuesday, etc."
   ]
  },
  {
   "cell_type": "code",
   "execution_count": 14,
   "id": "1a2798a0-6706-4d76-99f9-052ad4a95b83",
   "metadata": {},
   "outputs": [],
   "source": [
    "df['day_of_week'] = df['Date'].dt.day_name()"
   ]
  },
  {
   "cell_type": "markdown",
   "id": "6090eb90-5a3f-47c3-bb7a-66b168a81b37",
   "metadata": {},
   "source": [
    "Calculate `sales_per_piece` given `Sales_Amount` and `Quantity`"
   ]
  },
  {
   "cell_type": "code",
   "execution_count": 15,
   "id": "b6a54b34-287a-44eb-88bc-3a17ce5e476e",
   "metadata": {},
   "outputs": [],
   "source": [
    "df['sales_per_piece'] = round(df['Sales_Amount'] / df['Quantity'] * 1.0, 1)"
   ]
  },
  {
   "cell_type": "markdown",
   "id": "d52b53c2-7587-440a-b537-3d0cfcf0c647",
   "metadata": {},
   "source": [
    "Cost/Sales `ratio` (percentage) from `Operational_Cost` and calculated `sales_per_piece`"
   ]
  },
  {
   "cell_type": "code",
   "execution_count": 16,
   "id": "42814eef-05f0-4c10-b91d-a425f0b790d1",
   "metadata": {},
   "outputs": [],
   "source": [
    "df['ratio'] = df['Operational_Cost'] / df['sales_per_piece'] * 100"
   ]
  },
  {
   "cell_type": "markdown",
   "id": "b5ca2bb7-d150-4771-90f6-3b2f2dc8f493",
   "metadata": {},
   "source": [
    "Calculate `profit` for each row, `profit` per 1 item"
   ]
  },
  {
   "cell_type": "code",
   "execution_count": 17,
   "id": "a5048c9a-b261-480a-ac7e-6f534210c184",
   "metadata": {},
   "outputs": [],
   "source": [
    "df['profit'] = df['Sales_Amount'] - df['Operational_Cost']*df['Quantity']"
   ]
  },
  {
   "cell_type": "markdown",
   "id": "6c6bd2a2-e1a2-4569-bfe3-21408aca3fe6",
   "metadata": {},
   "source": [
    "Total Operation cost `total_cost` by each row"
   ]
  },
  {
   "cell_type": "code",
   "execution_count": 18,
   "id": "05dd8037-aa59-4a87-b433-5886612431d5",
   "metadata": {},
   "outputs": [],
   "source": [
    "df['total_cost'] = df['Quantity'] * df['Operational_Cost']"
   ]
  },
  {
   "cell_type": "markdown",
   "id": "0c57f869-0cd6-4d47-a410-223e08fa3989",
   "metadata": {},
   "source": [
    "Create `age_group` from `Customer_Age`: 18-24, 25-34, 35-44, 45-54, 55-64, 65+"
   ]
  },
  {
   "cell_type": "code",
   "execution_count": 19,
   "id": "e007da41-89eb-4680-abef-89c34775812d",
   "metadata": {},
   "outputs": [
    {
     "data": {
      "text/html": [
       "<div>\n",
       "<style scoped>\n",
       "    .dataframe tbody tr th:only-of-type {\n",
       "        vertical-align: middle;\n",
       "    }\n",
       "\n",
       "    .dataframe tbody tr th {\n",
       "        vertical-align: top;\n",
       "    }\n",
       "\n",
       "    .dataframe thead th {\n",
       "        text-align: right;\n",
       "    }\n",
       "</style>\n",
       "<table border=\"1\" class=\"dataframe\">\n",
       "  <thead>\n",
       "    <tr style=\"text-align: right;\">\n",
       "      <th></th>\n",
       "      <th>Date</th>\n",
       "      <th>Customer_ID</th>\n",
       "      <th>Transaction_ID</th>\n",
       "      <th>SKU_Category</th>\n",
       "      <th>SKU</th>\n",
       "      <th>Quantity</th>\n",
       "      <th>Sales_Amount</th>\n",
       "      <th>Operational_Cost</th>\n",
       "      <th>Customer_Age</th>\n",
       "      <th>day_of_week</th>\n",
       "      <th>sales_per_piece</th>\n",
       "      <th>ratio</th>\n",
       "      <th>profit</th>\n",
       "      <th>total_cost</th>\n",
       "      <th>age_group</th>\n",
       "    </tr>\n",
       "  </thead>\n",
       "  <tbody>\n",
       "    <tr>\n",
       "      <th>0</th>\n",
       "      <td>2022-01-02</td>\n",
       "      <td>3686</td>\n",
       "      <td>3</td>\n",
       "      <td>Skirt</td>\n",
       "      <td>CZUZX</td>\n",
       "      <td>1</td>\n",
       "      <td>63.5</td>\n",
       "      <td>44.6</td>\n",
       "      <td>51</td>\n",
       "      <td>Sunday</td>\n",
       "      <td>63.5</td>\n",
       "      <td>70.236220</td>\n",
       "      <td>18.9</td>\n",
       "      <td>44.6</td>\n",
       "      <td>45-54</td>\n",
       "    </tr>\n",
       "    <tr>\n",
       "      <th>1</th>\n",
       "      <td>2022-01-02</td>\n",
       "      <td>3719</td>\n",
       "      <td>4</td>\n",
       "      <td>Skirt</td>\n",
       "      <td>549KK</td>\n",
       "      <td>1</td>\n",
       "      <td>55.9</td>\n",
       "      <td>41.1</td>\n",
       "      <td>27</td>\n",
       "      <td>Sunday</td>\n",
       "      <td>55.9</td>\n",
       "      <td>73.524150</td>\n",
       "      <td>14.8</td>\n",
       "      <td>41.1</td>\n",
       "      <td>25-34</td>\n",
       "    </tr>\n",
       "    <tr>\n",
       "      <th>2</th>\n",
       "      <td>2022-01-02</td>\n",
       "      <td>9200</td>\n",
       "      <td>5</td>\n",
       "      <td>Skirt</td>\n",
       "      <td>K8EHH</td>\n",
       "      <td>1</td>\n",
       "      <td>68.8</td>\n",
       "      <td>52.6</td>\n",
       "      <td>39</td>\n",
       "      <td>Sunday</td>\n",
       "      <td>68.8</td>\n",
       "      <td>76.453488</td>\n",
       "      <td>16.2</td>\n",
       "      <td>52.6</td>\n",
       "      <td>35-44</td>\n",
       "    </tr>\n",
       "  </tbody>\n",
       "</table>\n",
       "</div>"
      ],
      "text/plain": [
       "        Date  Customer_ID  Transaction_ID SKU_Category    SKU  Quantity  \\\n",
       "0 2022-01-02         3686               3        Skirt  CZUZX         1   \n",
       "1 2022-01-02         3719               4        Skirt  549KK         1   \n",
       "2 2022-01-02         9200               5        Skirt  K8EHH         1   \n",
       "\n",
       "   Sales_Amount  Operational_Cost  Customer_Age day_of_week  sales_per_piece  \\\n",
       "0          63.5              44.6            51      Sunday             63.5   \n",
       "1          55.9              41.1            27      Sunday             55.9   \n",
       "2          68.8              52.6            39      Sunday             68.8   \n",
       "\n",
       "       ratio  profit  total_cost age_group  \n",
       "0  70.236220    18.9        44.6     45-54  \n",
       "1  73.524150    14.8        41.1     25-34  \n",
       "2  76.453488    16.2        52.6     35-44  "
      ]
     },
     "execution_count": 19,
     "metadata": {},
     "output_type": "execute_result"
    }
   ],
   "source": [
    "def age_group(row):\n",
    "    if row['Customer_Age'] <= 24:\n",
    "        group = '18-24'\n",
    "    elif row['Customer_Age'] <= 34 and row['Customer_Age'] >= 25:\n",
    "        group = '25-34'\n",
    "    elif row['Customer_Age'] <= 44 and row['Customer_Age'] >= 35:\n",
    "        group = '35-44'\n",
    "    elif row['Customer_Age'] <= 54 and row['Customer_Age'] >= 45:\n",
    "        group = '45-54'\n",
    "    elif row['Customer_Age'] <= 64 and row['Customer_Age'] >= 55:\n",
    "        group = '55-64'\n",
    "    else:\n",
    "        group = '65+'\n",
    "    \n",
    "    return group\n",
    "df['age_group'] = df.apply(age_group, axis=1)\n",
    "df.head(3)"
   ]
  },
  {
   "cell_type": "markdown",
   "id": "5db0b1bb-48c9-496d-9156-f1f2d348b8dc",
   "metadata": {
    "jp-MarkdownHeadingCollapsed": true,
    "tags": []
   },
   "source": [
    "## EDA"
   ]
  },
  {
   "cell_type": "code",
   "execution_count": 20,
   "id": "fe584467-f9d8-4ef1-a682-e8e178413fdc",
   "metadata": {},
   "outputs": [
    {
     "data": {
      "text/html": [
       "<div>\n",
       "<style scoped>\n",
       "    .dataframe tbody tr th:only-of-type {\n",
       "        vertical-align: middle;\n",
       "    }\n",
       "\n",
       "    .dataframe tbody tr th {\n",
       "        vertical-align: top;\n",
       "    }\n",
       "\n",
       "    .dataframe thead th {\n",
       "        text-align: right;\n",
       "    }\n",
       "</style>\n",
       "<table border=\"1\" class=\"dataframe\">\n",
       "  <thead>\n",
       "    <tr style=\"text-align: right;\">\n",
       "      <th></th>\n",
       "      <th>Date</th>\n",
       "      <th>Customer_ID</th>\n",
       "      <th>Transaction_ID</th>\n",
       "      <th>SKU_Category</th>\n",
       "      <th>SKU</th>\n",
       "      <th>Quantity</th>\n",
       "      <th>Sales_Amount</th>\n",
       "      <th>Operational_Cost</th>\n",
       "      <th>Customer_Age</th>\n",
       "      <th>day_of_week</th>\n",
       "      <th>sales_per_piece</th>\n",
       "      <th>ratio</th>\n",
       "      <th>profit</th>\n",
       "      <th>total_cost</th>\n",
       "      <th>age_group</th>\n",
       "    </tr>\n",
       "  </thead>\n",
       "  <tbody>\n",
       "    <tr>\n",
       "      <th>3036</th>\n",
       "      <td>2022-01-19</td>\n",
       "      <td>6442</td>\n",
       "      <td>2889</td>\n",
       "      <td>Cargo pants</td>\n",
       "      <td>OV1P9</td>\n",
       "      <td>20</td>\n",
       "      <td>1145.4</td>\n",
       "      <td>39.1</td>\n",
       "      <td>52</td>\n",
       "      <td>Wednesday</td>\n",
       "      <td>57.3</td>\n",
       "      <td>68.237347</td>\n",
       "      <td>363.4</td>\n",
       "      <td>782.0</td>\n",
       "      <td>45-54</td>\n",
       "    </tr>\n",
       "    <tr>\n",
       "      <th>2128</th>\n",
       "      <td>2022-01-14</td>\n",
       "      <td>6442</td>\n",
       "      <td>2011</td>\n",
       "      <td>Cargo pants</td>\n",
       "      <td>OV1P9</td>\n",
       "      <td>20</td>\n",
       "      <td>1145.6</td>\n",
       "      <td>39.1</td>\n",
       "      <td>52</td>\n",
       "      <td>Friday</td>\n",
       "      <td>57.3</td>\n",
       "      <td>68.237347</td>\n",
       "      <td>363.6</td>\n",
       "      <td>782.0</td>\n",
       "      <td>45-54</td>\n",
       "    </tr>\n",
       "    <tr>\n",
       "      <th>58473</th>\n",
       "      <td>2022-12-21</td>\n",
       "      <td>18013</td>\n",
       "      <td>62938</td>\n",
       "      <td>Blazer</td>\n",
       "      <td>0PW5H</td>\n",
       "      <td>12</td>\n",
       "      <td>949.1</td>\n",
       "      <td>47.0</td>\n",
       "      <td>54</td>\n",
       "      <td>Wednesday</td>\n",
       "      <td>79.1</td>\n",
       "      <td>59.418458</td>\n",
       "      <td>385.1</td>\n",
       "      <td>564.0</td>\n",
       "      <td>45-54</td>\n",
       "    </tr>\n",
       "    <tr>\n",
       "      <th>34865</th>\n",
       "      <td>2022-08-30</td>\n",
       "      <td>19404</td>\n",
       "      <td>41478</td>\n",
       "      <td>Shorts</td>\n",
       "      <td>2SVKS</td>\n",
       "      <td>10</td>\n",
       "      <td>220.9</td>\n",
       "      <td>16.7</td>\n",
       "      <td>29</td>\n",
       "      <td>Tuesday</td>\n",
       "      <td>22.1</td>\n",
       "      <td>75.565611</td>\n",
       "      <td>53.9</td>\n",
       "      <td>167.0</td>\n",
       "      <td>25-34</td>\n",
       "    </tr>\n",
       "    <tr>\n",
       "      <th>22286</th>\n",
       "      <td>2022-05-12</td>\n",
       "      <td>17471</td>\n",
       "      <td>23196</td>\n",
       "      <td>Hoodie</td>\n",
       "      <td>DUWYY</td>\n",
       "      <td>9</td>\n",
       "      <td>251.2</td>\n",
       "      <td>18.6</td>\n",
       "      <td>52</td>\n",
       "      <td>Thursday</td>\n",
       "      <td>27.9</td>\n",
       "      <td>66.666667</td>\n",
       "      <td>83.8</td>\n",
       "      <td>167.4</td>\n",
       "      <td>45-54</td>\n",
       "    </tr>\n",
       "    <tr>\n",
       "      <th>44671</th>\n",
       "      <td>2022-10-17</td>\n",
       "      <td>19192</td>\n",
       "      <td>50464</td>\n",
       "      <td>Shorts</td>\n",
       "      <td>2SVKS</td>\n",
       "      <td>9</td>\n",
       "      <td>198.9</td>\n",
       "      <td>16.7</td>\n",
       "      <td>19</td>\n",
       "      <td>Monday</td>\n",
       "      <td>22.1</td>\n",
       "      <td>75.565611</td>\n",
       "      <td>48.6</td>\n",
       "      <td>150.3</td>\n",
       "      <td>18-24</td>\n",
       "    </tr>\n",
       "    <tr>\n",
       "      <th>22900</th>\n",
       "      <td>2022-05-15</td>\n",
       "      <td>17471</td>\n",
       "      <td>23899</td>\n",
       "      <td>Hoodie</td>\n",
       "      <td>DUWYY</td>\n",
       "      <td>9</td>\n",
       "      <td>251.2</td>\n",
       "      <td>18.6</td>\n",
       "      <td>52</td>\n",
       "      <td>Sunday</td>\n",
       "      <td>27.9</td>\n",
       "      <td>66.666667</td>\n",
       "      <td>83.8</td>\n",
       "      <td>167.4</td>\n",
       "      <td>45-54</td>\n",
       "    </tr>\n",
       "    <tr>\n",
       "      <th>11120</th>\n",
       "      <td>2022-03-08</td>\n",
       "      <td>3509</td>\n",
       "      <td>11060</td>\n",
       "      <td>Dress shirt</td>\n",
       "      <td>W53F2</td>\n",
       "      <td>9</td>\n",
       "      <td>109.2</td>\n",
       "      <td>9.9</td>\n",
       "      <td>35</td>\n",
       "      <td>Tuesday</td>\n",
       "      <td>12.1</td>\n",
       "      <td>81.818182</td>\n",
       "      <td>20.1</td>\n",
       "      <td>89.1</td>\n",
       "      <td>35-44</td>\n",
       "    </tr>\n",
       "    <tr>\n",
       "      <th>10847</th>\n",
       "      <td>2022-03-07</td>\n",
       "      <td>5371</td>\n",
       "      <td>10807</td>\n",
       "      <td>Dress shirt</td>\n",
       "      <td>W53F2</td>\n",
       "      <td>9</td>\n",
       "      <td>109.2</td>\n",
       "      <td>9.9</td>\n",
       "      <td>33</td>\n",
       "      <td>Monday</td>\n",
       "      <td>12.1</td>\n",
       "      <td>81.818182</td>\n",
       "      <td>20.1</td>\n",
       "      <td>89.1</td>\n",
       "      <td>25-34</td>\n",
       "    </tr>\n",
       "    <tr>\n",
       "      <th>21027</th>\n",
       "      <td>2022-05-05</td>\n",
       "      <td>3509</td>\n",
       "      <td>21820</td>\n",
       "      <td>Dress shirt</td>\n",
       "      <td>W53F2</td>\n",
       "      <td>9</td>\n",
       "      <td>109.2</td>\n",
       "      <td>9.9</td>\n",
       "      <td>35</td>\n",
       "      <td>Thursday</td>\n",
       "      <td>12.1</td>\n",
       "      <td>81.818182</td>\n",
       "      <td>20.1</td>\n",
       "      <td>89.1</td>\n",
       "      <td>35-44</td>\n",
       "    </tr>\n",
       "  </tbody>\n",
       "</table>\n",
       "</div>"
      ],
      "text/plain": [
       "            Date  Customer_ID  Transaction_ID SKU_Category    SKU  Quantity  \\\n",
       "3036  2022-01-19         6442            2889  Cargo pants  OV1P9        20   \n",
       "2128  2022-01-14         6442            2011  Cargo pants  OV1P9        20   \n",
       "58473 2022-12-21        18013           62938       Blazer  0PW5H        12   \n",
       "34865 2022-08-30        19404           41478       Shorts  2SVKS        10   \n",
       "22286 2022-05-12        17471           23196       Hoodie  DUWYY         9   \n",
       "44671 2022-10-17        19192           50464       Shorts  2SVKS         9   \n",
       "22900 2022-05-15        17471           23899       Hoodie  DUWYY         9   \n",
       "11120 2022-03-08         3509           11060  Dress shirt  W53F2         9   \n",
       "10847 2022-03-07         5371           10807  Dress shirt  W53F2         9   \n",
       "21027 2022-05-05         3509           21820  Dress shirt  W53F2         9   \n",
       "\n",
       "       Sales_Amount  Operational_Cost  Customer_Age day_of_week  \\\n",
       "3036         1145.4              39.1            52   Wednesday   \n",
       "2128         1145.6              39.1            52      Friday   \n",
       "58473         949.1              47.0            54   Wednesday   \n",
       "34865         220.9              16.7            29     Tuesday   \n",
       "22286         251.2              18.6            52    Thursday   \n",
       "44671         198.9              16.7            19      Monday   \n",
       "22900         251.2              18.6            52      Sunday   \n",
       "11120         109.2               9.9            35     Tuesday   \n",
       "10847         109.2               9.9            33      Monday   \n",
       "21027         109.2               9.9            35    Thursday   \n",
       "\n",
       "       sales_per_piece      ratio  profit  total_cost age_group  \n",
       "3036              57.3  68.237347   363.4       782.0     45-54  \n",
       "2128              57.3  68.237347   363.6       782.0     45-54  \n",
       "58473             79.1  59.418458   385.1       564.0     45-54  \n",
       "34865             22.1  75.565611    53.9       167.0     25-34  \n",
       "22286             27.9  66.666667    83.8       167.4     45-54  \n",
       "44671             22.1  75.565611    48.6       150.3     18-24  \n",
       "22900             27.9  66.666667    83.8       167.4     45-54  \n",
       "11120             12.1  81.818182    20.1        89.1     35-44  \n",
       "10847             12.1  81.818182    20.1        89.1     25-34  \n",
       "21027             12.1  81.818182    20.1        89.1     35-44  "
      ]
     },
     "execution_count": 20,
     "metadata": {},
     "output_type": "execute_result"
    }
   ],
   "source": [
    "df.sort_values('Quantity', ascending=False).head(10)"
   ]
  },
  {
   "cell_type": "code",
   "execution_count": 21,
   "id": "83591cea-cc3e-4130-9b01-4c84f66004dc",
   "metadata": {},
   "outputs": [
    {
     "data": {
      "text/plain": [
       "(61681, 15)"
      ]
     },
     "execution_count": 21,
     "metadata": {},
     "output_type": "execute_result"
    }
   ],
   "source": [
    "df.shape"
   ]
  },
  {
   "cell_type": "code",
   "execution_count": 22,
   "id": "7c08e07b-98b7-4620-bb9b-6c53288c1e56",
   "metadata": {},
   "outputs": [
    {
     "name": "stdout",
     "output_type": "stream",
     "text": [
      "<class 'pandas.core.frame.DataFrame'>\n",
      "Index: 61681 entries, 0 to 61862\n",
      "Data columns (total 15 columns):\n",
      " #   Column            Non-Null Count  Dtype         \n",
      "---  ------            --------------  -----         \n",
      " 0   Date              61681 non-null  datetime64[ns]\n",
      " 1   Customer_ID       61681 non-null  int64         \n",
      " 2   Transaction_ID    61681 non-null  int64         \n",
      " 3   SKU_Category      61681 non-null  object        \n",
      " 4   SKU               61681 non-null  object        \n",
      " 5   Quantity          61681 non-null  int64         \n",
      " 6   Sales_Amount      61681 non-null  float64       \n",
      " 7   Operational_Cost  61681 non-null  float64       \n",
      " 8   Customer_Age      61681 non-null  int64         \n",
      " 9   day_of_week       61681 non-null  object        \n",
      " 10  sales_per_piece   61681 non-null  float64       \n",
      " 11  ratio             61681 non-null  float64       \n",
      " 12  profit            61681 non-null  float64       \n",
      " 13  total_cost        61681 non-null  float64       \n",
      " 14  age_group         61681 non-null  object        \n",
      "dtypes: datetime64[ns](1), float64(6), int64(4), object(4)\n",
      "memory usage: 7.5+ MB\n"
     ]
    }
   ],
   "source": [
    "df.info()"
   ]
  },
  {
   "cell_type": "markdown",
   "id": "2efac564-4401-4ad3-ad82-3ed48ade9951",
   "metadata": {},
   "source": [
    "Quantitative Summary"
   ]
  },
  {
   "cell_type": "code",
   "execution_count": 23,
   "id": "c7b79704-22a6-4ddd-8a31-25de52ba217f",
   "metadata": {},
   "outputs": [
    {
     "data": {
      "text/html": [
       "<div>\n",
       "<style scoped>\n",
       "    .dataframe tbody tr th:only-of-type {\n",
       "        vertical-align: middle;\n",
       "    }\n",
       "\n",
       "    .dataframe tbody tr th {\n",
       "        vertical-align: top;\n",
       "    }\n",
       "\n",
       "    .dataframe thead th {\n",
       "        text-align: right;\n",
       "    }\n",
       "</style>\n",
       "<table border=\"1\" class=\"dataframe\">\n",
       "  <thead>\n",
       "    <tr style=\"text-align: right;\">\n",
       "      <th></th>\n",
       "      <th>Date</th>\n",
       "      <th>Quantity</th>\n",
       "      <th>Sales_Amount</th>\n",
       "      <th>Operational_Cost</th>\n",
       "      <th>Customer_Age</th>\n",
       "      <th>sales_per_piece</th>\n",
       "      <th>ratio</th>\n",
       "    </tr>\n",
       "  </thead>\n",
       "  <tbody>\n",
       "    <tr>\n",
       "      <th>min</th>\n",
       "      <td>2022-01-02 00:00:00</td>\n",
       "      <td>1.000000</td>\n",
       "      <td>0.200000</td>\n",
       "      <td>0.100000</td>\n",
       "      <td>16.000000</td>\n",
       "      <td>0.200000</td>\n",
       "      <td>50.000000</td>\n",
       "    </tr>\n",
       "    <tr>\n",
       "      <th>max</th>\n",
       "      <td>2022-12-31 00:00:00</td>\n",
       "      <td>20.000000</td>\n",
       "      <td>2118.300000</td>\n",
       "      <td>1536.100000</td>\n",
       "      <td>68.000000</td>\n",
       "      <td>1942.000000</td>\n",
       "      <td>100.000000</td>\n",
       "    </tr>\n",
       "    <tr>\n",
       "      <th>mean</th>\n",
       "      <td>2022-07-05 22:58:48.619834112</td>\n",
       "      <td>1.315754</td>\n",
       "      <td>88.968023</td>\n",
       "      <td>52.002276</td>\n",
       "      <td>41.160957</td>\n",
       "      <td>72.786343</td>\n",
       "      <td>71.287655</td>\n",
       "    </tr>\n",
       "    <tr>\n",
       "      <th>median</th>\n",
       "      <td>2022-07-04 00:00:00</td>\n",
       "      <td>1.000000</td>\n",
       "      <td>63.500000</td>\n",
       "      <td>38.700000</td>\n",
       "      <td>41.000000</td>\n",
       "      <td>56.600000</td>\n",
       "      <td>70.061728</td>\n",
       "    </tr>\n",
       "    <tr>\n",
       "      <th>std</th>\n",
       "      <td>107 days 16:45:46.219037476</td>\n",
       "      <td>0.659417</td>\n",
       "      <td>104.067195</td>\n",
       "      <td>67.125790</td>\n",
       "      <td>11.238115</td>\n",
       "      <td>87.208718</td>\n",
       "      <td>7.435218</td>\n",
       "    </tr>\n",
       "  </tbody>\n",
       "</table>\n",
       "</div>"
      ],
      "text/plain": [
       "                                 Date   Quantity  Sales_Amount  \\\n",
       "min               2022-01-02 00:00:00   1.000000      0.200000   \n",
       "max               2022-12-31 00:00:00  20.000000   2118.300000   \n",
       "mean    2022-07-05 22:58:48.619834112   1.315754     88.968023   \n",
       "median            2022-07-04 00:00:00   1.000000     63.500000   \n",
       "std       107 days 16:45:46.219037476   0.659417    104.067195   \n",
       "\n",
       "        Operational_Cost  Customer_Age  sales_per_piece       ratio  \n",
       "min             0.100000     16.000000         0.200000   50.000000  \n",
       "max          1536.100000     68.000000      1942.000000  100.000000  \n",
       "mean           52.002276     41.160957        72.786343   71.287655  \n",
       "median         38.700000     41.000000        56.600000   70.061728  \n",
       "std            67.125790     11.238115        87.208718    7.435218  "
      ]
     },
     "execution_count": 23,
     "metadata": {},
     "output_type": "execute_result"
    }
   ],
   "source": [
    "df.agg(\n",
    "    {\n",
    "        \"Date\": ['min', 'max', 'mean', 'median', 'std'],\n",
    "        \"Quantity\": ['min', 'max', 'mean', 'median', 'std'],\n",
    "        \"Sales_Amount\": ['min', 'max', 'mean', 'median', 'std'],\n",
    "        \"Operational_Cost\": ['min', 'max', 'mean', 'median', 'std'],\n",
    "        \"Customer_Age\": ['min', 'max', 'mean', 'median', 'std'],\n",
    "        \"sales_per_piece\": ['min', 'max', 'mean', 'median', 'std'],\n",
    "        \"ratio\": ['min', 'max', 'mean', 'median', 'std'],\n",
    "    }\n",
    ")"
   ]
  },
  {
   "cell_type": "markdown",
   "id": "167ef5e4-fb90-4774-9b95-a80c4a5e600a",
   "metadata": {},
   "source": [
    "**Summary**: \n",
    "1. Only 1 year data - 2022  \n",
    "2. Mean age around 41  \n",
    "3. Average cost/sales ratio is around 71.2%  \n",
    "4. Mostly 1 item per transaction"
   ]
  },
  {
   "cell_type": "code",
   "execution_count": 24,
   "id": "49ed1a47-de3f-42bd-9f2f-6cdae30b4a08",
   "metadata": {},
   "outputs": [
    {
     "data": {
      "text/html": [
       "<div>\n",
       "<style scoped>\n",
       "    .dataframe tbody tr th:only-of-type {\n",
       "        vertical-align: middle;\n",
       "    }\n",
       "\n",
       "    .dataframe tbody tr th {\n",
       "        vertical-align: top;\n",
       "    }\n",
       "\n",
       "    .dataframe thead th {\n",
       "        text-align: right;\n",
       "    }\n",
       "</style>\n",
       "<table border=\"1\" class=\"dataframe\">\n",
       "  <thead>\n",
       "    <tr style=\"text-align: right;\">\n",
       "      <th></th>\n",
       "      <th>Date</th>\n",
       "      <th>Customer_ID</th>\n",
       "      <th>Transaction_ID</th>\n",
       "      <th>SKU_Category</th>\n",
       "      <th>SKU</th>\n",
       "      <th>Quantity</th>\n",
       "      <th>Sales_Amount</th>\n",
       "      <th>Operational_Cost</th>\n",
       "      <th>Customer_Age</th>\n",
       "      <th>day_of_week</th>\n",
       "      <th>sales_per_piece</th>\n",
       "      <th>ratio</th>\n",
       "      <th>profit</th>\n",
       "      <th>total_cost</th>\n",
       "      <th>age_group</th>\n",
       "    </tr>\n",
       "  </thead>\n",
       "  <tbody>\n",
       "    <tr>\n",
       "      <th>58860</th>\n",
       "      <td>2022-12-22</td>\n",
       "      <td>17045</td>\n",
       "      <td>63313</td>\n",
       "      <td>Sunglasses</td>\n",
       "      <td>4Y96V</td>\n",
       "      <td>1</td>\n",
       "      <td>1942.0</td>\n",
       "      <td>1536.1</td>\n",
       "      <td>59</td>\n",
       "      <td>Thursday</td>\n",
       "      <td>1942.0</td>\n",
       "      <td>79.098867</td>\n",
       "      <td>405.9</td>\n",
       "      <td>1536.1</td>\n",
       "      <td>55-64</td>\n",
       "    </tr>\n",
       "    <tr>\n",
       "      <th>50246</th>\n",
       "      <td>2022-11-15</td>\n",
       "      <td>15800</td>\n",
       "      <td>55620</td>\n",
       "      <td>Sunglasses</td>\n",
       "      <td>4Y96V</td>\n",
       "      <td>1</td>\n",
       "      <td>1942.0</td>\n",
       "      <td>1536.1</td>\n",
       "      <td>40</td>\n",
       "      <td>Tuesday</td>\n",
       "      <td>1942.0</td>\n",
       "      <td>79.098867</td>\n",
       "      <td>405.9</td>\n",
       "      <td>1536.1</td>\n",
       "      <td>35-44</td>\n",
       "    </tr>\n",
       "    <tr>\n",
       "      <th>28991</th>\n",
       "      <td>2022-06-20</td>\n",
       "      <td>17045</td>\n",
       "      <td>30658</td>\n",
       "      <td>Sunglasses</td>\n",
       "      <td>4Y96V</td>\n",
       "      <td>1</td>\n",
       "      <td>1942.0</td>\n",
       "      <td>1536.1</td>\n",
       "      <td>59</td>\n",
       "      <td>Monday</td>\n",
       "      <td>1942.0</td>\n",
       "      <td>79.098867</td>\n",
       "      <td>405.9</td>\n",
       "      <td>1536.1</td>\n",
       "      <td>55-64</td>\n",
       "    </tr>\n",
       "  </tbody>\n",
       "</table>\n",
       "</div>"
      ],
      "text/plain": [
       "            Date  Customer_ID  Transaction_ID SKU_Category    SKU  Quantity  \\\n",
       "58860 2022-12-22        17045           63313   Sunglasses  4Y96V         1   \n",
       "50246 2022-11-15        15800           55620   Sunglasses  4Y96V         1   \n",
       "28991 2022-06-20        17045           30658   Sunglasses  4Y96V         1   \n",
       "\n",
       "       Sales_Amount  Operational_Cost  Customer_Age day_of_week  \\\n",
       "58860        1942.0            1536.1            59    Thursday   \n",
       "50246        1942.0            1536.1            40     Tuesday   \n",
       "28991        1942.0            1536.1            59      Monday   \n",
       "\n",
       "       sales_per_piece      ratio  profit  total_cost age_group  \n",
       "58860           1942.0  79.098867   405.9      1536.1     55-64  \n",
       "50246           1942.0  79.098867   405.9      1536.1     35-44  \n",
       "28991           1942.0  79.098867   405.9      1536.1     55-64  "
      ]
     },
     "execution_count": 24,
     "metadata": {},
     "output_type": "execute_result"
    }
   ],
   "source": [
    "df.sort_values(by='sales_per_piece', ascending=False).head(3)"
   ]
  },
  {
   "cell_type": "code",
   "execution_count": 25,
   "id": "f9369c9f-22bf-448b-ac83-3f62df49185f",
   "metadata": {},
   "outputs": [
    {
     "data": {
      "text/plain": [
       "array(['Skirt', 'Shoes', 'T-shirt', 'Cargo pants', 'Crop Top', 'Jeans',\n",
       "       'Hoodie', 'Sunglasses', 'Blazer', 'Dress shirt', 'Bomber jacket',\n",
       "       'Trench coat', 'Dresses', 'Hat', 'Shorts'], dtype=object)"
      ]
     },
     "execution_count": 25,
     "metadata": {},
     "output_type": "execute_result"
    }
   ],
   "source": [
    "df['SKU_Category'].unique()"
   ]
  },
  {
   "cell_type": "code",
   "execution_count": 26,
   "id": "9f58c354-4a2f-46e0-b51b-653a69c8147f",
   "metadata": {},
   "outputs": [
    {
     "data": {
      "text/html": [
       "<div>\n",
       "<style scoped>\n",
       "    .dataframe tbody tr th:only-of-type {\n",
       "        vertical-align: middle;\n",
       "    }\n",
       "\n",
       "    .dataframe tbody tr th {\n",
       "        vertical-align: top;\n",
       "    }\n",
       "\n",
       "    .dataframe thead th {\n",
       "        text-align: right;\n",
       "    }\n",
       "</style>\n",
       "<table border=\"1\" class=\"dataframe\">\n",
       "  <thead>\n",
       "    <tr style=\"text-align: right;\">\n",
       "      <th>col_0</th>\n",
       "      <th>Count</th>\n",
       "    </tr>\n",
       "    <tr>\n",
       "      <th>SKU_Category</th>\n",
       "      <th></th>\n",
       "    </tr>\n",
       "  </thead>\n",
       "  <tbody>\n",
       "    <tr>\n",
       "      <th>T-shirt</th>\n",
       "      <td>10894</td>\n",
       "    </tr>\n",
       "    <tr>\n",
       "      <th>Hoodie</th>\n",
       "      <td>5090</td>\n",
       "    </tr>\n",
       "    <tr>\n",
       "      <th>Dresses</th>\n",
       "      <td>5035</td>\n",
       "    </tr>\n",
       "    <tr>\n",
       "      <th>Cargo pants</th>\n",
       "      <td>4813</td>\n",
       "    </tr>\n",
       "    <tr>\n",
       "      <th>Shorts</th>\n",
       "      <td>4557</td>\n",
       "    </tr>\n",
       "    <tr>\n",
       "      <th>Skirt</th>\n",
       "      <td>4486</td>\n",
       "    </tr>\n",
       "    <tr>\n",
       "      <th>Hat</th>\n",
       "      <td>4296</td>\n",
       "    </tr>\n",
       "    <tr>\n",
       "      <th>Shoes</th>\n",
       "      <td>3154</td>\n",
       "    </tr>\n",
       "    <tr>\n",
       "      <th>Blazer</th>\n",
       "      <td>3027</td>\n",
       "    </tr>\n",
       "    <tr>\n",
       "      <th>Jeans</th>\n",
       "      <td>3005</td>\n",
       "    </tr>\n",
       "    <tr>\n",
       "      <th>Crop Top</th>\n",
       "      <td>2853</td>\n",
       "    </tr>\n",
       "    <tr>\n",
       "      <th>Sunglasses</th>\n",
       "      <td>2823</td>\n",
       "    </tr>\n",
       "    <tr>\n",
       "      <th>Dress shirt</th>\n",
       "      <td>2768</td>\n",
       "    </tr>\n",
       "    <tr>\n",
       "      <th>Bomber jacket</th>\n",
       "      <td>2586</td>\n",
       "    </tr>\n",
       "    <tr>\n",
       "      <th>Trench coat</th>\n",
       "      <td>2294</td>\n",
       "    </tr>\n",
       "  </tbody>\n",
       "</table>\n",
       "</div>"
      ],
      "text/plain": [
       "col_0          Count\n",
       "SKU_Category        \n",
       "T-shirt        10894\n",
       "Hoodie          5090\n",
       "Dresses         5035\n",
       "Cargo pants     4813\n",
       "Shorts          4557\n",
       "Skirt           4486\n",
       "Hat             4296\n",
       "Shoes           3154\n",
       "Blazer          3027\n",
       "Jeans           3005\n",
       "Crop Top        2853\n",
       "Sunglasses      2823\n",
       "Dress shirt     2768\n",
       "Bomber jacket   2586\n",
       "Trench coat     2294"
      ]
     },
     "execution_count": 26,
     "metadata": {},
     "output_type": "execute_result"
    }
   ],
   "source": [
    "pd.crosstab(df['SKU_Category'], columns='Count').sort_values(by='Count', ascending=False)"
   ]
  },
  {
   "cell_type": "markdown",
   "id": "740793f8-ae8a-4574-b775-386bb57931bb",
   "metadata": {},
   "source": [
    "Check whether each `SKU` code correspond to only one `SKU_Category` value"
   ]
  },
  {
   "cell_type": "code",
   "execution_count": 27,
   "id": "54697e20-e3c5-482a-bfb5-5cea57426b9d",
   "metadata": {},
   "outputs": [],
   "source": [
    "for i in df['SKU'].unique():\n",
    "    if len(df[df['SKU'] == i]['SKU_Category'].unique()) > 1:\n",
    "        print(df[df['SKU'] == i]['SKU_Category'].unique())"
   ]
  },
  {
   "cell_type": "markdown",
   "id": "d7c7338c-b9b3-4e18-bbbf-d910eacc933e",
   "metadata": {},
   "source": [
    "## PROBLEM IDENTIFICATION"
   ]
  },
  {
   "cell_type": "markdown",
   "id": "27486e10-b97c-439b-9b9f-9a264c8faa40",
   "metadata": {
    "jp-MarkdownHeadingCollapsed": true,
    "tags": []
   },
   "source": [
    "### Problem 1: Too many `SKU` - Too many product lines per clothing Category.  \n",
    "#### Assumption: We can reduce the number of product lines to cut cost while still retaining sales"
   ]
  },
  {
   "cell_type": "markdown",
   "id": "7c0077a5-2fc0-4d96-a6d0-d5a3e3ff7352",
   "metadata": {},
   "source": [
    "Calculated 1432 products over 15 categories of clothing, averaging around 95 items/category.   \n",
    "For a retail store that has only been operating for a year, this is too much.   \n",
    "Additionally, this number of product lines is not on par with the company's mission - sustainability."
   ]
  },
  {
   "cell_type": "code",
   "execution_count": 28,
   "id": "b6fd2c1b-3a68-4415-96ce-071e963598fc",
   "metadata": {},
   "outputs": [
    {
     "name": "stdout",
     "output_type": "stream",
     "text": [
      "1432\n",
      "95.46666666666667\n"
     ]
    }
   ],
   "source": [
    "print(len(df['SKU'].unique()))\n",
    "print(len(df['SKU'].unique()) / len(df['SKU_Category'].unique()))"
   ]
  },
  {
   "cell_type": "code",
   "execution_count": 29,
   "id": "36d589bb-d95f-4d64-a37c-f4e3ddefba5d",
   "metadata": {},
   "outputs": [
    {
     "data": {
      "text/plain": [
       "SKU_Category\n",
       "Blazer            54\n",
       "Bomber jacket    108\n",
       "Cargo pants       82\n",
       "Crop Top         123\n",
       "Dress shirt       37\n",
       "Dresses          265\n",
       "Hat               79\n",
       "Hoodie           114\n",
       "Jeans             67\n",
       "Shoes             86\n",
       "Shorts            92\n",
       "Skirt             89\n",
       "Sunglasses        90\n",
       "T-shirt           63\n",
       "Trench coat       83\n",
       "Name: SKU, dtype: int64"
      ]
     },
     "execution_count": 29,
     "metadata": {},
     "output_type": "execute_result"
    }
   ],
   "source": [
    "# Calculate current number of products per category\n",
    "df.groupby('SKU_Category')['SKU'].nunique()"
   ]
  },
  {
   "cell_type": "code",
   "execution_count": 73,
   "id": "d7546515-9574-42b1-b3d2-5b3c11526e4a",
   "metadata": {},
   "outputs": [
    {
     "name": "stdout",
     "output_type": "stream",
     "text": [
      "Skirt\n",
      "col_0  count\n",
      "SKU         \n",
      "CZUZX    618\n",
      "51OBI    411\n",
      "9STQJ    301\n",
      "Shoes\n",
      "col_0  count\n",
      "SKU         \n",
      "F79YP    376\n",
      "JJ9FT    291\n",
      "83SE2    165\n",
      "T-shirt\n",
      "col_0  count\n",
      "SKU         \n",
      "UNJKW   2006\n",
      "COWU2    789\n",
      "M6J9W    698\n",
      "Cargo pants\n",
      "col_0  count\n",
      "SKU         \n",
      "OV1P9    734\n",
      "DMJ70    519\n",
      "JCYBN    398\n",
      "Crop Top\n",
      "col_0  count\n",
      "SKU         \n",
      "MRE4J    400\n",
      "G5878    143\n",
      "VXH0U    126\n",
      "Jeans\n",
      "col_0  count\n",
      "SKU         \n",
      "E3PAN    508\n",
      "XJLWY    178\n",
      "BK9BM    174\n",
      "Hoodie\n",
      "col_0  count\n",
      "SKU         \n",
      "F90L2    389\n",
      "4R4F9    339\n",
      "DLFQW    276\n",
      "Sunglasses\n",
      "col_0  count\n",
      "SKU         \n",
      "2IA22    232\n",
      "7LJOW    191\n",
      "0OZBT    162\n",
      "Blazer\n",
      "col_0  count\n",
      "SKU         \n",
      "A59HR    556\n",
      "LPLTZ    482\n",
      "PO1N6    298\n",
      "Dress shirt\n",
      "col_0  count\n",
      "SKU         \n",
      "SJ0ZD    446\n",
      "6TXTJ    349\n",
      "W53F2    312\n",
      "Bomber jacket\n",
      "col_0  count\n",
      "SKU         \n",
      "20XCP    342\n",
      "YRULF    208\n",
      "X59YE    181\n",
      "Trench coat\n",
      "col_0  count\n",
      "SKU         \n",
      "A9P11    321\n",
      "93JH4    156\n",
      "PFUQ1    141\n",
      "Dresses\n",
      "col_0  count\n",
      "SKU         \n",
      "CYAX0    279\n",
      "5S43J    206\n",
      "W85U8    196\n",
      "Hat\n",
      "col_0  count\n",
      "SKU         \n",
      "4FT32    468\n",
      "PWG2Z    463\n",
      "8LANJ    293\n",
      "Shorts\n",
      "col_0  count\n",
      "SKU         \n",
      "4X8P4    449\n",
      "2SVKS    398\n",
      "F7FQ5    371\n"
     ]
    }
   ],
   "source": [
    "# Calculate top 3 best-selling lines of product (SKU) per category\n",
    "for i in df['SKU_Category'].unique():\n",
    "    print(i)\n",
    "    print(pd.crosstab(df[df['SKU_Category']==i]['SKU'], columns='count').sort_values(by='count', ascending=False).head(3))"
   ]
  },
  {
   "cell_type": "markdown",
   "id": "ae1f8824-78a7-4ed6-a28a-9e8f758a046d",
   "metadata": {},
   "source": [
    "Based on market analysis and our own prediction, we only want to keep a number of top products that accounts for 80% of the company's current profit. There are 2 ways to go about this:  \n",
    "1. For each category, we keep the number of top products that is accountable for 80% of the profit generated by that category  \n",
    "2. Keep a number of top product lines that accounts for 80% of the company's profit as a whole  \n",
    "\n",
    "We chose approach 1 since we believe this would align with the company's diversity value. However, both approach are presented below."
   ]
  },
  {
   "cell_type": "code",
   "execution_count": 31,
   "id": "903d54ee-35c7-41e3-89ee-3fb9a0dec82c",
   "metadata": {},
   "outputs": [
    {
     "data": {
      "text/html": [
       "<div>\n",
       "<style scoped>\n",
       "    .dataframe tbody tr th:only-of-type {\n",
       "        vertical-align: middle;\n",
       "    }\n",
       "\n",
       "    .dataframe tbody tr th {\n",
       "        vertical-align: top;\n",
       "    }\n",
       "\n",
       "    .dataframe thead th {\n",
       "        text-align: right;\n",
       "    }\n",
       "</style>\n",
       "<table border=\"1\" class=\"dataframe\">\n",
       "  <thead>\n",
       "    <tr style=\"text-align: right;\">\n",
       "      <th></th>\n",
       "      <th>category</th>\n",
       "      <th>num_top_products</th>\n",
       "    </tr>\n",
       "  </thead>\n",
       "  <tbody>\n",
       "    <tr>\n",
       "      <th>0</th>\n",
       "      <td>Skirt</td>\n",
       "      <td>24</td>\n",
       "    </tr>\n",
       "    <tr>\n",
       "      <th>1</th>\n",
       "      <td>Shoes</td>\n",
       "      <td>22</td>\n",
       "    </tr>\n",
       "    <tr>\n",
       "      <th>2</th>\n",
       "      <td>T-shirt</td>\n",
       "      <td>19</td>\n",
       "    </tr>\n",
       "    <tr>\n",
       "      <th>3</th>\n",
       "      <td>Cargo pants</td>\n",
       "      <td>25</td>\n",
       "    </tr>\n",
       "    <tr>\n",
       "      <th>4</th>\n",
       "      <td>Crop Top</td>\n",
       "      <td>38</td>\n",
       "    </tr>\n",
       "    <tr>\n",
       "      <th>5</th>\n",
       "      <td>Jeans</td>\n",
       "      <td>23</td>\n",
       "    </tr>\n",
       "    <tr>\n",
       "      <th>6</th>\n",
       "      <td>Hoodie</td>\n",
       "      <td>30</td>\n",
       "    </tr>\n",
       "    <tr>\n",
       "      <th>7</th>\n",
       "      <td>Sunglasses</td>\n",
       "      <td>23</td>\n",
       "    </tr>\n",
       "    <tr>\n",
       "      <th>8</th>\n",
       "      <td>Blazer</td>\n",
       "      <td>10</td>\n",
       "    </tr>\n",
       "    <tr>\n",
       "      <th>9</th>\n",
       "      <td>Dress shirt</td>\n",
       "      <td>13</td>\n",
       "    </tr>\n",
       "    <tr>\n",
       "      <th>10</th>\n",
       "      <td>Bomber jacket</td>\n",
       "      <td>29</td>\n",
       "    </tr>\n",
       "    <tr>\n",
       "      <th>11</th>\n",
       "      <td>Trench coat</td>\n",
       "      <td>17</td>\n",
       "    </tr>\n",
       "    <tr>\n",
       "      <th>12</th>\n",
       "      <td>Dresses</td>\n",
       "      <td>87</td>\n",
       "    </tr>\n",
       "    <tr>\n",
       "      <th>13</th>\n",
       "      <td>Hat</td>\n",
       "      <td>25</td>\n",
       "    </tr>\n",
       "    <tr>\n",
       "      <th>14</th>\n",
       "      <td>Shorts</td>\n",
       "      <td>25</td>\n",
       "    </tr>\n",
       "  </tbody>\n",
       "</table>\n",
       "</div>"
      ],
      "text/plain": [
       "         category  num_top_products\n",
       "0           Skirt                24\n",
       "1           Shoes                22\n",
       "2         T-shirt                19\n",
       "3     Cargo pants                25\n",
       "4        Crop Top                38\n",
       "5           Jeans                23\n",
       "6          Hoodie                30\n",
       "7      Sunglasses                23\n",
       "8          Blazer                10\n",
       "9     Dress shirt                13\n",
       "10  Bomber jacket                29\n",
       "11    Trench coat                17\n",
       "12        Dresses                87\n",
       "13            Hat                25\n",
       "14         Shorts                25"
      ]
     },
     "execution_count": 31,
     "metadata": {},
     "output_type": "execute_result"
    }
   ],
   "source": [
    "# Approach 1\n",
    "df.groupby('SKU_Category')['profit'].sum()\n",
    "result = {}\n",
    "ratio_avg = {}\n",
    "for i in df['SKU_Category'].unique():\n",
    "    x = df[df['SKU_Category'] == i]\n",
    "    top = x[['SKU', 'profit', 'Sales_Amount', 'Quantity']].groupby('SKU').agg('sum').sort_values(by='profit', ascending=False)\n",
    "    totalPro = x['profit'].sum()\n",
    "    totalSales = x['Sales_Amount'].sum()\n",
    "    totalQuantity = x['Quantity'].sum()\n",
    "    current_profit = 0\n",
    "    current_sales = 0\n",
    "    result[i] = []\n",
    "\n",
    "    for index, row in top.iterrows():\n",
    "        if current_profit/totalPro < 0.80:\n",
    "            current_profit += row['profit']\n",
    "            # current_sales += row['Sales_Amount']\n",
    "            result[i].append(index)\n",
    "        else:\n",
    "            break\n",
    "    \n",
    "\n",
    "topProductsDict = {}\n",
    "sku_keep = []\n",
    "for key, value in result.items():\n",
    "    topProductsDict[key] = len(value)\n",
    "    sku_keep += value\n",
    "\n",
    "topTable = pd.DataFrame(topProductsDict.items(), columns = ['category', 'num_top_products'])\n",
    "topTable"
   ]
  },
  {
   "cell_type": "code",
   "execution_count": 60,
   "id": "314749f8-78d9-419f-b410-28129a6d221a",
   "metadata": {},
   "outputs": [],
   "source": [
    "# Approach 2\n",
    "another_sku = []\n",
    "new_df = df[['SKU', 'profit', 'Sales_Amount', 'Quantity']].groupby('SKU').agg('sum').sort_values(by='profit', ascending=False)\n",
    "newTotalPro = df['profit'].sum()\n",
    "curr = 0\n",
    "for index, row in new_df.iterrows():\n",
    "    if curr/newTotalPro < 0.80:\n",
    "        curr += row['profit']\n",
    "        another_sku.append(index)\n",
    "    else:\n",
    "        break"
   ]
  },
  {
   "cell_type": "code",
   "execution_count": 61,
   "id": "687ebdab-76f3-4125-984d-fdff879a9321",
   "metadata": {},
   "outputs": [
    {
     "data": {
      "text/html": [
       "<div>\n",
       "<style scoped>\n",
       "    .dataframe tbody tr th:only-of-type {\n",
       "        vertical-align: middle;\n",
       "    }\n",
       "\n",
       "    .dataframe tbody tr th {\n",
       "        vertical-align: top;\n",
       "    }\n",
       "\n",
       "    .dataframe thead th {\n",
       "        text-align: right;\n",
       "    }\n",
       "</style>\n",
       "<table border=\"1\" class=\"dataframe\">\n",
       "  <thead>\n",
       "    <tr style=\"text-align: right;\">\n",
       "      <th></th>\n",
       "      <th>category</th>\n",
       "      <th>num_top_products</th>\n",
       "      <th>original_num</th>\n",
       "      <th>pct</th>\n",
       "      <th>avg_ratio</th>\n",
       "      <th>profit_ratio</th>\n",
       "    </tr>\n",
       "  </thead>\n",
       "  <tbody>\n",
       "    <tr>\n",
       "      <th>0</th>\n",
       "      <td>Blazer</td>\n",
       "      <td>10</td>\n",
       "      <td>54</td>\n",
       "      <td>19.0</td>\n",
       "      <td>66.017298</td>\n",
       "      <td>5.083886</td>\n",
       "    </tr>\n",
       "    <tr>\n",
       "      <th>1</th>\n",
       "      <td>Bomber jacket</td>\n",
       "      <td>29</td>\n",
       "      <td>108</td>\n",
       "      <td>27.0</td>\n",
       "      <td>65.694999</td>\n",
       "      <td>7.761508</td>\n",
       "    </tr>\n",
       "    <tr>\n",
       "      <th>2</th>\n",
       "      <td>Cargo pants</td>\n",
       "      <td>25</td>\n",
       "      <td>82</td>\n",
       "      <td>30.0</td>\n",
       "      <td>68.691001</td>\n",
       "      <td>6.398309</td>\n",
       "    </tr>\n",
       "    <tr>\n",
       "      <th>3</th>\n",
       "      <td>Crop Top</td>\n",
       "      <td>38</td>\n",
       "      <td>123</td>\n",
       "      <td>31.0</td>\n",
       "      <td>81.360519</td>\n",
       "      <td>3.969418</td>\n",
       "    </tr>\n",
       "    <tr>\n",
       "      <th>4</th>\n",
       "      <td>Dress shirt</td>\n",
       "      <td>13</td>\n",
       "      <td>37</td>\n",
       "      <td>35.0</td>\n",
       "      <td>81.846497</td>\n",
       "      <td>3.183876</td>\n",
       "    </tr>\n",
       "    <tr>\n",
       "      <th>5</th>\n",
       "      <td>Dresses</td>\n",
       "      <td>87</td>\n",
       "      <td>265</td>\n",
       "      <td>33.0</td>\n",
       "      <td>71.830437</td>\n",
       "      <td>15.174925</td>\n",
       "    </tr>\n",
       "    <tr>\n",
       "      <th>6</th>\n",
       "      <td>Hat</td>\n",
       "      <td>25</td>\n",
       "      <td>79</td>\n",
       "      <td>32.0</td>\n",
       "      <td>80.560577</td>\n",
       "      <td>4.640733</td>\n",
       "    </tr>\n",
       "    <tr>\n",
       "      <th>7</th>\n",
       "      <td>Hoodie</td>\n",
       "      <td>30</td>\n",
       "      <td>114</td>\n",
       "      <td>26.0</td>\n",
       "      <td>67.235675</td>\n",
       "      <td>7.398923</td>\n",
       "    </tr>\n",
       "    <tr>\n",
       "      <th>8</th>\n",
       "      <td>Jeans</td>\n",
       "      <td>23</td>\n",
       "      <td>67</td>\n",
       "      <td>34.0</td>\n",
       "      <td>63.101822</td>\n",
       "      <td>5.283106</td>\n",
       "    </tr>\n",
       "    <tr>\n",
       "      <th>9</th>\n",
       "      <td>Shoes</td>\n",
       "      <td>22</td>\n",
       "      <td>86</td>\n",
       "      <td>26.0</td>\n",
       "      <td>66.254090</td>\n",
       "      <td>7.209700</td>\n",
       "    </tr>\n",
       "    <tr>\n",
       "      <th>10</th>\n",
       "      <td>Shorts</td>\n",
       "      <td>25</td>\n",
       "      <td>92</td>\n",
       "      <td>27.0</td>\n",
       "      <td>79.742753</td>\n",
       "      <td>3.535333</td>\n",
       "    </tr>\n",
       "    <tr>\n",
       "      <th>11</th>\n",
       "      <td>Skirt</td>\n",
       "      <td>24</td>\n",
       "      <td>89</td>\n",
       "      <td>27.0</td>\n",
       "      <td>72.682196</td>\n",
       "      <td>5.264258</td>\n",
       "    </tr>\n",
       "    <tr>\n",
       "      <th>12</th>\n",
       "      <td>Sunglasses</td>\n",
       "      <td>23</td>\n",
       "      <td>90</td>\n",
       "      <td>26.0</td>\n",
       "      <td>80.960548</td>\n",
       "      <td>6.852816</td>\n",
       "    </tr>\n",
       "    <tr>\n",
       "      <th>13</th>\n",
       "      <td>T-shirt</td>\n",
       "      <td>19</td>\n",
       "      <td>63</td>\n",
       "      <td>30.0</td>\n",
       "      <td>67.585724</td>\n",
       "      <td>10.533991</td>\n",
       "    </tr>\n",
       "    <tr>\n",
       "      <th>14</th>\n",
       "      <td>Trench coat</td>\n",
       "      <td>17</td>\n",
       "      <td>83</td>\n",
       "      <td>20.0</td>\n",
       "      <td>57.782079</td>\n",
       "      <td>7.709219</td>\n",
       "    </tr>\n",
       "  </tbody>\n",
       "</table>\n",
       "</div>"
      ],
      "text/plain": [
       "         category  num_top_products  original_num   pct  avg_ratio  \\\n",
       "0          Blazer                10            54  19.0  66.017298   \n",
       "1   Bomber jacket                29           108  27.0  65.694999   \n",
       "2     Cargo pants                25            82  30.0  68.691001   \n",
       "3        Crop Top                38           123  31.0  81.360519   \n",
       "4     Dress shirt                13            37  35.0  81.846497   \n",
       "5         Dresses                87           265  33.0  71.830437   \n",
       "6             Hat                25            79  32.0  80.560577   \n",
       "7          Hoodie                30           114  26.0  67.235675   \n",
       "8           Jeans                23            67  34.0  63.101822   \n",
       "9           Shoes                22            86  26.0  66.254090   \n",
       "10         Shorts                25            92  27.0  79.742753   \n",
       "11          Skirt                24            89  27.0  72.682196   \n",
       "12     Sunglasses                23            90  26.0  80.960548   \n",
       "13        T-shirt                19            63  30.0  67.585724   \n",
       "14    Trench coat                17            83  20.0  57.782079   \n",
       "\n",
       "    profit_ratio  \n",
       "0       5.083886  \n",
       "1       7.761508  \n",
       "2       6.398309  \n",
       "3       3.969418  \n",
       "4       3.183876  \n",
       "5      15.174925  \n",
       "6       4.640733  \n",
       "7       7.398923  \n",
       "8       5.283106  \n",
       "9       7.209700  \n",
       "10      3.535333  \n",
       "11      5.264258  \n",
       "12      6.852816  \n",
       "13     10.533991  \n",
       "14      7.709219  "
      ]
     },
     "execution_count": 61,
     "metadata": {},
     "output_type": "execute_result"
    }
   ],
   "source": [
    "# Final result based on approach 1\n",
    "topTable = topTable.sort_values(by='category').reset_index().drop('index', axis=1)\n",
    "topTable['original_num'] = topTable['category'].map(df.groupby('SKU_Category')['SKU'].nunique().to_dict())\n",
    "topTable['pct'] = round(topTable['num_top_products'] / topTable['original_num'] * 100)\n",
    "topTable"
   ]
  },
  {
   "cell_type": "code",
   "execution_count": 35,
   "id": "b8c4e7f3-c543-42b5-ac2e-7cd2ff664b94",
   "metadata": {},
   "outputs": [
    {
     "data": {
      "text/plain": [
       "(47240, 15)"
      ]
     },
     "execution_count": 35,
     "metadata": {},
     "output_type": "execute_result"
    }
   ],
   "source": [
    "# Filtered dataset based on approach 1\n",
    "filtered = df[df['SKU'].isin(sku_keep)]\n",
    "filtered.shape"
   ]
  },
  {
   "cell_type": "code",
   "execution_count": 62,
   "id": "9f0cea20-b753-494c-b27b-1ea4bfe6bb58",
   "metadata": {},
   "outputs": [
    {
     "data": {
      "text/plain": [
       "(47198, 15)"
      ]
     },
     "execution_count": 62,
     "metadata": {},
     "output_type": "execute_result"
    }
   ],
   "source": [
    "# Filtered dataset based on approach 2\n",
    "filtered_2 = df[df['SKU'].isin(another_sku)]\n",
    "filtered_2.shape"
   ]
  },
  {
   "cell_type": "code",
   "execution_count": 95,
   "id": "c41d87a0-f988-4e09-85d9-b40b9a0e21cc",
   "metadata": {},
   "outputs": [
    {
     "name": "stdout",
     "output_type": "stream",
     "text": [
      "Approach 1\n",
      " SKU_Category\n",
      "Blazer           10\n",
      "Bomber jacket    29\n",
      "Cargo pants      25\n",
      "Crop Top         38\n",
      "Dress shirt      13\n",
      "Dresses          87\n",
      "Hat              25\n",
      "Hoodie           30\n",
      "Jeans            23\n",
      "Shoes            22\n",
      "Shorts           25\n",
      "Skirt            24\n",
      "Sunglasses       23\n",
      "T-shirt          19\n",
      "Trench coat      17\n",
      "Name: SKU, dtype: int64\n",
      "Approach 2\n",
      " SKU_Category\n",
      "Blazer           13\n",
      "Bomber jacket    32\n",
      "Cargo pants      23\n",
      "Crop Top         18\n",
      "Dress shirt      13\n",
      "Dresses          70\n",
      "Hat              20\n",
      "Hoodie           32\n",
      "Jeans            23\n",
      "Shoes            30\n",
      "Shorts           15\n",
      "Skirt            20\n",
      "Sunglasses       21\n",
      "T-shirt          28\n",
      "Trench coat      20\n",
      "Name: SKU, dtype: int64\n"
     ]
    }
   ],
   "source": [
    "print('Approach 1\\n', filtered.groupby('SKU_Category')['SKU'].nunique())\n",
    "print('Approach 2\\n', filtered_2.groupby('SKU_Category')['SKU'].nunique())"
   ]
  },
  {
   "cell_type": "markdown",
   "id": "bd799fe5-ae6b-4521-bb1b-f3c79f3fc68c",
   "metadata": {},
   "source": [
    "Conclusion: Not much difference between the two approaches. We will go with approach 1"
   ]
  },
  {
   "cell_type": "code",
   "execution_count": 68,
   "id": "f7063437-adeb-4dd2-98a0-32e0b16c4d18",
   "metadata": {},
   "outputs": [
    {
     "name": "stdout",
     "output_type": "stream",
     "text": [
      "1238330.3 1537040.7999999996 80.56587047006172\n"
     ]
    }
   ],
   "source": [
    "print(filtered['profit'].sum(), df['profit'].sum(), filtered['profit'].sum()/df['profit'].sum()*100)"
   ]
  },
  {
   "cell_type": "code",
   "execution_count": 69,
   "id": "d88a6d5a-a234-4bad-9153-99c2a3b01d91",
   "metadata": {},
   "outputs": [
    {
     "data": {
      "text/html": [
       "<div>\n",
       "<style scoped>\n",
       "    .dataframe tbody tr th:only-of-type {\n",
       "        vertical-align: middle;\n",
       "    }\n",
       "\n",
       "    .dataframe tbody tr th {\n",
       "        vertical-align: top;\n",
       "    }\n",
       "\n",
       "    .dataframe thead th {\n",
       "        text-align: right;\n",
       "    }\n",
       "</style>\n",
       "<table border=\"1\" class=\"dataframe\">\n",
       "  <thead>\n",
       "    <tr style=\"text-align: right;\">\n",
       "      <th></th>\n",
       "      <th>category</th>\n",
       "      <th>num_top_products</th>\n",
       "      <th>original_num</th>\n",
       "      <th>pct</th>\n",
       "      <th>avg_ratio</th>\n",
       "      <th>profit_ratio</th>\n",
       "    </tr>\n",
       "  </thead>\n",
       "  <tbody>\n",
       "    <tr>\n",
       "      <th>5</th>\n",
       "      <td>Dresses</td>\n",
       "      <td>87</td>\n",
       "      <td>265</td>\n",
       "      <td>33.0</td>\n",
       "      <td>71.830437</td>\n",
       "      <td>15.174925</td>\n",
       "    </tr>\n",
       "    <tr>\n",
       "      <th>13</th>\n",
       "      <td>T-shirt</td>\n",
       "      <td>19</td>\n",
       "      <td>63</td>\n",
       "      <td>30.0</td>\n",
       "      <td>67.585724</td>\n",
       "      <td>10.533991</td>\n",
       "    </tr>\n",
       "    <tr>\n",
       "      <th>1</th>\n",
       "      <td>Bomber jacket</td>\n",
       "      <td>29</td>\n",
       "      <td>108</td>\n",
       "      <td>27.0</td>\n",
       "      <td>65.694999</td>\n",
       "      <td>7.761508</td>\n",
       "    </tr>\n",
       "    <tr>\n",
       "      <th>14</th>\n",
       "      <td>Trench coat</td>\n",
       "      <td>17</td>\n",
       "      <td>83</td>\n",
       "      <td>20.0</td>\n",
       "      <td>57.782079</td>\n",
       "      <td>7.709219</td>\n",
       "    </tr>\n",
       "    <tr>\n",
       "      <th>7</th>\n",
       "      <td>Hoodie</td>\n",
       "      <td>30</td>\n",
       "      <td>114</td>\n",
       "      <td>26.0</td>\n",
       "      <td>67.235675</td>\n",
       "      <td>7.398923</td>\n",
       "    </tr>\n",
       "    <tr>\n",
       "      <th>9</th>\n",
       "      <td>Shoes</td>\n",
       "      <td>22</td>\n",
       "      <td>86</td>\n",
       "      <td>26.0</td>\n",
       "      <td>66.254090</td>\n",
       "      <td>7.209700</td>\n",
       "    </tr>\n",
       "    <tr>\n",
       "      <th>12</th>\n",
       "      <td>Sunglasses</td>\n",
       "      <td>23</td>\n",
       "      <td>90</td>\n",
       "      <td>26.0</td>\n",
       "      <td>80.960548</td>\n",
       "      <td>6.852816</td>\n",
       "    </tr>\n",
       "    <tr>\n",
       "      <th>2</th>\n",
       "      <td>Cargo pants</td>\n",
       "      <td>25</td>\n",
       "      <td>82</td>\n",
       "      <td>30.0</td>\n",
       "      <td>68.691001</td>\n",
       "      <td>6.398309</td>\n",
       "    </tr>\n",
       "    <tr>\n",
       "      <th>8</th>\n",
       "      <td>Jeans</td>\n",
       "      <td>23</td>\n",
       "      <td>67</td>\n",
       "      <td>34.0</td>\n",
       "      <td>63.101822</td>\n",
       "      <td>5.283106</td>\n",
       "    </tr>\n",
       "    <tr>\n",
       "      <th>11</th>\n",
       "      <td>Skirt</td>\n",
       "      <td>24</td>\n",
       "      <td>89</td>\n",
       "      <td>27.0</td>\n",
       "      <td>72.682196</td>\n",
       "      <td>5.264258</td>\n",
       "    </tr>\n",
       "    <tr>\n",
       "      <th>0</th>\n",
       "      <td>Blazer</td>\n",
       "      <td>10</td>\n",
       "      <td>54</td>\n",
       "      <td>19.0</td>\n",
       "      <td>66.017298</td>\n",
       "      <td>5.083886</td>\n",
       "    </tr>\n",
       "    <tr>\n",
       "      <th>6</th>\n",
       "      <td>Hat</td>\n",
       "      <td>25</td>\n",
       "      <td>79</td>\n",
       "      <td>32.0</td>\n",
       "      <td>80.560577</td>\n",
       "      <td>4.640733</td>\n",
       "    </tr>\n",
       "    <tr>\n",
       "      <th>3</th>\n",
       "      <td>Crop Top</td>\n",
       "      <td>38</td>\n",
       "      <td>123</td>\n",
       "      <td>31.0</td>\n",
       "      <td>81.360519</td>\n",
       "      <td>3.969418</td>\n",
       "    </tr>\n",
       "    <tr>\n",
       "      <th>10</th>\n",
       "      <td>Shorts</td>\n",
       "      <td>25</td>\n",
       "      <td>92</td>\n",
       "      <td>27.0</td>\n",
       "      <td>79.742753</td>\n",
       "      <td>3.535333</td>\n",
       "    </tr>\n",
       "    <tr>\n",
       "      <th>4</th>\n",
       "      <td>Dress shirt</td>\n",
       "      <td>13</td>\n",
       "      <td>37</td>\n",
       "      <td>35.0</td>\n",
       "      <td>81.846497</td>\n",
       "      <td>3.183876</td>\n",
       "    </tr>\n",
       "  </tbody>\n",
       "</table>\n",
       "</div>"
      ],
      "text/plain": [
       "         category  num_top_products  original_num   pct  avg_ratio  \\\n",
       "5         Dresses                87           265  33.0  71.830437   \n",
       "13        T-shirt                19            63  30.0  67.585724   \n",
       "1   Bomber jacket                29           108  27.0  65.694999   \n",
       "14    Trench coat                17            83  20.0  57.782079   \n",
       "7          Hoodie                30           114  26.0  67.235675   \n",
       "9           Shoes                22            86  26.0  66.254090   \n",
       "12     Sunglasses                23            90  26.0  80.960548   \n",
       "2     Cargo pants                25            82  30.0  68.691001   \n",
       "8           Jeans                23            67  34.0  63.101822   \n",
       "11          Skirt                24            89  27.0  72.682196   \n",
       "0          Blazer                10            54  19.0  66.017298   \n",
       "6             Hat                25            79  32.0  80.560577   \n",
       "3        Crop Top                38           123  31.0  81.360519   \n",
       "10         Shorts                25            92  27.0  79.742753   \n",
       "4     Dress shirt                13            37  35.0  81.846497   \n",
       "\n",
       "    profit_ratio  \n",
       "5      15.174925  \n",
       "13     10.533991  \n",
       "1       7.761508  \n",
       "14      7.709219  \n",
       "7       7.398923  \n",
       "9       7.209700  \n",
       "12      6.852816  \n",
       "2       6.398309  \n",
       "8       5.283106  \n",
       "11      5.264258  \n",
       "0       5.083886  \n",
       "6       4.640733  \n",
       "3       3.969418  \n",
       "10      3.535333  \n",
       "4       3.183876  "
      ]
     },
     "execution_count": 69,
     "metadata": {},
     "output_type": "execute_result"
    }
   ],
   "source": [
    "# For each category, calculate the mean cost/sales ratio \n",
    "ratio_dict = filtered[['SKU_Category', 'ratio']].groupby('SKU_Category').mean().to_dict()['ratio']\n",
    "profit_total_dict = filtered[['SKU_Category', 'profit']].groupby('SKU_Category').sum().to_dict()['profit']\n",
    "profit_ratio_dict = {}\n",
    "for key, value in profit_total_dict.items():\n",
    "    profit_ratio_dict[key] = value / filtered['profit'].sum() * 100\n",
    "topTable['avg_ratio'] = topTable['category'].map(ratio_dict)\n",
    "topTable['profit_ratio'] = topTable['category'].map(profit_ratio_dict)\n",
    "topTable.sort_values('profit_ratio', ascending=False)"
   ]
  },
  {
   "cell_type": "markdown",
   "id": "6a983945-0e7b-4336-8ba0-00fc05b5745c",
   "metadata": {},
   "source": [
    "**28.6% of current products is accountable for 80% profit**"
   ]
  },
  {
   "cell_type": "code",
   "execution_count": 70,
   "id": "ab0bcea1-75ee-448c-a672-39e156593593",
   "metadata": {},
   "outputs": [
    {
     "data": {
      "text/plain": [
       "28.631284916201118"
      ]
     },
     "execution_count": 70,
     "metadata": {},
     "output_type": "execute_result"
    }
   ],
   "source": [
    "topTable['num_top_products'].sum() / len(df['SKU'].unique()) * 100"
   ]
  },
  {
   "cell_type": "code",
   "execution_count": 96,
   "id": "5e48392c-e301-4793-b62f-53821dbc93ca",
   "metadata": {},
   "outputs": [
    {
     "name": "stdout",
     "output_type": "stream",
     "text": [
      "\n",
      "Skirt\n",
      "Profit pct:  80.94782198380767\n",
      "Sales pct:  80.02392284262187\n",
      "Quantity pct:  78.14054054054054\n",
      "\n",
      "Shoes\n",
      "Profit pct:  80.90061844460048\n",
      "Sales pct:  81.4844728009342\n",
      "Quantity pct:  79.67016491754123\n",
      "\n",
      "T-shirt\n",
      "Profit pct:  81.18599657694102\n",
      "Sales pct:  81.0843580143958\n",
      "Quantity pct:  74.69074715487383\n",
      "\n",
      "Cargo pants\n",
      "Profit pct:  80.32746498507146\n",
      "Sales pct:  80.08658212523986\n",
      "Quantity pct:  81.80242634315424\n",
      "\n",
      "Crop Top\n",
      "Profit pct:  80.18364696977606\n",
      "Sales pct:  80.29183691897872\n",
      "Quantity pct:  82.09802749551703\n",
      "\n",
      "Jeans\n",
      "Profit pct:  80.72820649504814\n",
      "Sales pct:  81.01474042055436\n",
      "Quantity pct:  80.72289156626506\n",
      "\n",
      "Hoodie\n",
      "Profit pct:  80.10727821954876\n",
      "Sales pct:  79.33948831542554\n",
      "Quantity pct:  78.87047924461072\n",
      "\n",
      "Sunglasses\n",
      "Profit pct:  80.27396664194579\n",
      "Sales pct:  80.08179118991303\n",
      "Quantity pct:  55.89981926155435\n",
      "\n",
      "Blazer\n",
      "Profit pct:  81.83090829210721\n",
      "Sales pct:  82.61946570236198\n",
      "Quantity pct:  81.7340734866508\n",
      "\n",
      "Dress shirt\n",
      "Profit pct:  80.24998931408649\n",
      "Sales pct:  79.62877853738836\n",
      "Quantity pct:  77.0139634801289\n",
      "\n",
      "Bomber jacket\n",
      "Profit pct:  80.20091721990248\n",
      "Sales pct:  79.99980183416633\n",
      "Quantity pct:  73.73623270262638\n",
      "\n",
      "Trench coat\n",
      "Profit pct:  80.56875877714162\n",
      "Sales pct:  80.64083421301184\n",
      "Quantity pct:  63.069376313945334\n",
      "\n",
      "Dresses\n",
      "Profit pct:  80.24889170550307\n",
      "Sales pct:  80.0488456084296\n",
      "Quantity pct:  74.5263415230412\n",
      "\n",
      "Hat\n",
      "Profit pct:  80.46576036808287\n",
      "Sales pct:  81.24819833955779\n",
      "Quantity pct:  80.59019632053341\n",
      "\n",
      "Shorts\n",
      "Profit pct:  80.43222646417955\n",
      "Sales pct:  79.45006228136684\n",
      "Quantity pct:  84.8568906821334\n"
     ]
    }
   ],
   "source": [
    "# More detail breakdown on the number of products kept and their contribution to profit, sales, and quantity sold\n",
    "for i in df['SKU_Category'].unique():\n",
    "    x = df[df['SKU_Category'] == i]\n",
    "    top_only = x[['SKU', 'profit', 'Sales_Amount', 'Quantity']].groupby('SKU').agg('sum').sort_values(by='profit', ascending=False).head(topProductsDict[i])\n",
    "    totalPro = x['profit'].sum()\n",
    "    totalSales = x['Sales_Amount'].sum()\n",
    "    totalQuantity = x['Quantity'].sum()\n",
    "    print('\\n'+i)\n",
    "    print('Profit pct: ', top_only['profit'].sum()/totalPro*100)\n",
    "    print('Sales pct: ', top_only['Sales_Amount'].sum()/totalSales*100)\n",
    "    print('Quantity pct: ', top_only['Quantity'].sum()/totalQuantity*100)"
   ]
  },
  {
   "cell_type": "markdown",
   "id": "9ec077a2-d722-40cc-8454-5712d2342b08",
   "metadata": {
    "jp-MarkdownHeadingCollapsed": true,
    "tags": []
   },
   "source": [
    "### Problem 2: Sole supplier from Germany - given in case package\n",
    "#### Recommendation: We can source products from multiple suppliers to cater demand and reduce service disruption. Need to determine which products to order locally - products that are in `high demand` and `low cost/sales ratio`."
   ]
  },
  {
   "cell_type": "code",
   "execution_count": 81,
   "id": "2d0d45e9-2090-4483-9a4f-48cd08a1687c",
   "metadata": {},
   "outputs": [
    {
     "data": {
      "application/vnd.vegalite.v4+json": {
       "$schema": "https://vega.github.io/schema/vega-lite/v4.17.0.json",
       "config": {
        "axis": {
         "labelFontSize": 15,
         "titleFontSize": 15
        },
        "mark": {
         "color": "#5f84a2"
        },
        "view": {
         "continuousHeight": 300,
         "continuousWidth": 400
        }
       },
       "data": {
        "url": "http://localhost:53686/7570c412ec5096fe359dd7a8ee79196a.json"
       },
       "encoding": {
        "color": {
         "condition": {
          "test": "(datum.SKU_Category === 'Dresses')",
          "value": "red"
         },
         "value": "lightgrey"
        },
        "tooltip": {
         "aggregate": "mean",
         "field": "ratio",
         "type": "quantitative"
        },
        "x": {
         "field": "ratio",
         "scale": {
          "domain": [
           50,
           90
          ]
         },
         "title": "Cost/Sales Ratio (%)",
         "type": "quantitative"
        },
        "y": {
         "field": "SKU_Category",
         "type": "nominal"
        }
       },
       "mark": "boxplot"
      },
      "image/png": "[encoded data removed]",
      "text/plain": [
       "<VegaLite 4 object>\n",
       "\n",
       "If you see this message, it means the renderer has not been properly enabled\n",
       "for the frontend that you are using. For more information, see\n",
       "https://altair-viz.github.io/user_guide/troubleshooting.html\n"
      ]
     },
     "execution_count": 81,
     "metadata": {},
     "output_type": "execute_result"
    }
   ],
   "source": [
    "# Cost/Sales Ratio Chart\n",
    "interact = alt.Chart(df).mark_boxplot().encode(\n",
    "    alt.Y('SKU_Category'),\n",
    "    alt.X('ratio', title='Cost/Sales Ratio (%)', scale=alt.Scale(domain=[50, 90])),\n",
    "    alt.Tooltip('mean(ratio)'),\n",
    "    color=alt.condition(\n",
    "        alt.datum.SKU_Category == 'Dresses',  # If the country is \"US\" this test returns True,\n",
    "        alt.value('red'),     # highlight a bar with red.\n",
    "        alt.value('lightgrey')   # And grey for the rest of the bars\n",
    "     )\n",
    ").configure_mark(\n",
    "    color='#5f84a2',\n",
    ").configure_axis(\n",
    "    labelFontSize=15,\n",
    "    titleFontSize=15\n",
    ")\n",
    "interact"
   ]
  },
  {
   "cell_type": "code",
   "execution_count": 79,
   "id": "1b2f972a-fed9-4f37-b7a0-d92c7b5c05f0",
   "metadata": {},
   "outputs": [
    {
     "data": {
      "application/vnd.vegalite.v4+json": {
       "$schema": "https://vega.github.io/schema/vega-lite/v4.17.0.json",
       "config": {
        "view": {
         "continuousHeight": 300,
         "continuousWidth": 400
        }
       },
       "data": {
        "url": "http://localhost:53686/7570c412ec5096fe359dd7a8ee79196a.json"
       },
       "hconcat": [
        {
         "encoding": {
          "x": {
           "field": "SKU_Category",
           "sort": "-y",
           "type": "nominal"
          },
          "y": {
           "aggregate": "sum",
           "field": "Sales_Amount",
           "title": "Sales",
           "type": "quantitative"
          }
         },
         "mark": "bar"
        },
        {
         "encoding": {
          "x": {
           "field": "SKU_Category",
           "sort": "-y",
           "type": "nominal"
          },
          "y": {
           "aggregate": "sum",
           "field": "profit",
           "title": "Profit",
           "type": "quantitative"
          }
         },
         "mark": "bar"
        }
       ]
      },
      "image/png": "[encoded data removed]",
      "text/plain": [
       "<VegaLite 4 object>\n",
       "\n",
       "If you see this message, it means the renderer has not been properly enabled\n",
       "for the frontend that you are using. For more information, see\n",
       "https://altair-viz.github.io/user_guide/troubleshooting.html\n"
      ]
     },
     "execution_count": 79,
     "metadata": {},
     "output_type": "execute_result"
    }
   ],
   "source": [
    "# Sales and Profit chart\n",
    "sales = alt.Chart(df).mark_bar().encode(\n",
    "    alt.X('SKU_Category', sort='-y'),\n",
    "    alt.Y('sum(Sales_Amount)', title='Sales'),\n",
    ")\n",
    "\n",
    "profit = alt.Chart(df).mark_bar().encode(\n",
    "    alt.X('SKU_Category', sort='-y'),\n",
    "    alt.Y('sum(profit)', title='Profit'),\n",
    ")\n",
    "\n",
    "sales | profit"
   ]
  },
  {
   "cell_type": "markdown",
   "id": "a71055ce-968c-45b8-a646-ae2c79bb3714",
   "metadata": {},
   "source": [
    "Should order products such as `Dresses`, `T-shirt`, or `Bomber Jacket` locally"
   ]
  },
  {
   "cell_type": "markdown",
   "id": "5d8f4a79-16a9-476d-baf8-cd67008aeb4c",
   "metadata": {
    "tags": []
   },
   "source": [
    "## ADDITIONAL VISUAL SUMMARIZATION"
   ]
  },
  {
   "cell_type": "code",
   "execution_count": 82,
   "id": "c1c8a20f-96b7-444c-b834-3220b3985078",
   "metadata": {},
   "outputs": [
    {
     "data": {
      "text/plain": [
       "DataTransformerRegistry.enable('data_server')"
      ]
     },
     "execution_count": 82,
     "metadata": {},
     "output_type": "execute_result"
    }
   ],
   "source": [
    "alt.data_transformers.disable_max_rows()"
   ]
  },
  {
   "cell_type": "code",
   "execution_count": 84,
   "id": "3b1b14f6-b16d-46f8-8203-6cf7b23c5a57",
   "metadata": {},
   "outputs": [
    {
     "data": {
      "application/vnd.vegalite.v4+json": {
       "$schema": "https://vega.github.io/schema/vega-lite/v4.17.0.json",
       "config": {
        "view": {
         "continuousHeight": 300,
         "continuousWidth": 400
        }
       },
       "data": {
        "url": "http://localhost:53686/7570c412ec5096fe359dd7a8ee79196a.json"
       },
       "encoding": {
        "x": {
         "axis": {
          "labelAngle": -45
         },
         "field": "age_group",
         "title": "Age Group",
         "type": "nominal"
        },
        "y": {
         "aggregate": "sum",
         "field": "profit",
         "title": "Profit",
         "type": "quantitative"
        }
       },
       "mark": "bar"
      },
      "image/png": "[encoded data removed]",
      "text/plain": [
       "<VegaLite 4 object>\n",
       "\n",
       "If you see this message, it means the renderer has not been properly enabled\n",
       "for the frontend that you are using. For more information, see\n",
       "https://altair-viz.github.io/user_guide/troubleshooting.html\n"
      ]
     },
     "execution_count": 84,
     "metadata": {},
     "output_type": "execute_result"
    }
   ],
   "source": [
    "# Summary of Age Distribution\n",
    "alt.Chart(df).mark_bar().encode(\n",
    "    alt.X('age_group:N', title='Age Group', axis=alt.Axis(labelAngle=-45)),\n",
    "    alt.Y('sum(profit)', title='Profit')\n",
    ")"
   ]
  },
  {
   "cell_type": "code",
   "execution_count": 85,
   "id": "62fef10b-1275-4525-91cb-1dbe3a8f4720",
   "metadata": {},
   "outputs": [
    {
     "data": {
      "application/vnd.vegalite.v4+json": {
       "$schema": "https://vega.github.io/schema/vega-lite/v4.17.0.json",
       "config": {
        "view": {
         "continuousHeight": 300,
         "continuousWidth": 400
        }
       },
       "data": {
        "url": "http://localhost:53686/7570c412ec5096fe359dd7a8ee79196a.json"
       },
       "encoding": {
        "color": {
         "field": "SKU_Category",
         "type": "nominal"
        },
        "x": {
         "field": "age_group",
         "type": "nominal"
        },
        "y": {
         "aggregate": "sum",
         "field": "Quantity",
         "stack": "normalize",
         "type": "quantitative"
        }
       },
       "mark": "bar"
      },
      "image/png": "[encoded data removed]",
      "text/plain": [
       "<VegaLite 4 object>\n",
       "\n",
       "If you see this message, it means the renderer has not been properly enabled\n",
       "for the frontend that you are using. For more information, see\n",
       "https://altair-viz.github.io/user_guide/troubleshooting.html\n"
      ]
     },
     "execution_count": 85,
     "metadata": {},
     "output_type": "execute_result"
    }
   ],
   "source": [
    "# Comparision of favored category within age groups\n",
    "alt.Chart(df).mark_bar().encode(\n",
    "    alt.X('age_group'),\n",
    "    alt.Y('sum(Quantity)', stack='normalize'),\n",
    "    alt.Color('SKU_Category')\n",
    ")"
   ]
  },
  {
   "cell_type": "code",
   "execution_count": 86,
   "id": "0f2299a3-3eb1-4d67-a12b-16fae9b4b22a",
   "metadata": {},
   "outputs": [
    {
     "data": {
      "application/vnd.vegalite.v4+json": {
       "$schema": "https://vega.github.io/schema/vega-lite/v4.17.0.json",
       "config": {
        "view": {
         "continuousHeight": 300,
         "continuousWidth": 400
        }
       },
       "data": {
        "url": "http://localhost:53686/7570c412ec5096fe359dd7a8ee79196a.json"
       },
       "encoding": {
        "color": {
         "field": "SKU_Category",
         "type": "nominal"
        },
        "x": {
         "field": "Date",
         "timeUnit": "month",
         "type": "temporal"
        },
        "y": {
         "aggregate": "sum",
         "field": "Sales_Amount",
         "stack": "normalize",
         "type": "quantitative"
        }
       },
       "mark": "bar"
      },
      "image/png": "[encoded data removed]",
      "text/plain": [
       "<VegaLite 4 object>\n",
       "\n",
       "If you see this message, it means the renderer has not been properly enabled\n",
       "for the frontend that you are using. For more information, see\n",
       "https://altair-viz.github.io/user_guide/troubleshooting.html\n"
      ]
     },
     "execution_count": 86,
     "metadata": {},
     "output_type": "execute_result"
    }
   ],
   "source": [
    "# Identification of yearly trends: None\n",
    "alt.Chart(df).mark_bar().encode(\n",
    "    alt.X('month(Date)'),\n",
    "    alt.Y('sum(Sales_Amount)', stack='normalize'),\n",
    "    alt.Color('SKU_Category')\n",
    ")"
   ]
  },
  {
   "cell_type": "code",
   "execution_count": 88,
   "id": "a6e30ca5-408c-4aa1-8bbf-f4f25993b3db",
   "metadata": {},
   "outputs": [
    {
     "data": {
      "application/vnd.vegalite.v4+json": {
       "$schema": "https://vega.github.io/schema/vega-lite/v4.17.0.json",
       "config": {
        "view": {
         "continuousHeight": 300,
         "continuousWidth": 400
        }
       },
       "data": {
        "url": "http://localhost:53686/7570c412ec5096fe359dd7a8ee79196a.json"
       },
       "encoding": {
        "color": {
         "aggregate": "sum",
         "field": "Sales_Amount",
         "title": "Total Sales",
         "type": "quantitative"
        },
        "tooltip": {
         "aggregate": "sum",
         "field": "Sales_Amount",
         "type": "quantitative"
        },
        "x": {
         "field": "day_of_week",
         "sort": [
          "Monday",
          "Tuesday",
          "Wednesday",
          "Thursday",
          "Friday",
          "Saturday",
          "Sunday"
         ],
         "title": "Days of the Week",
         "type": "ordinal"
        },
        "y": {
         "field": "Date",
         "timeUnit": "month",
         "title": "Month",
         "type": "ordinal"
        }
       },
       "height": 350,
       "mark": "rect",
       "width": 250
      },
      "image/png": "[encoded data removed]",
      "text/plain": [
       "<VegaLite 4 object>\n",
       "\n",
       "If you see this message, it means the renderer has not been properly enabled\n",
       "for the frontend that you are using. For more information, see\n",
       "https://altair-viz.github.io/user_guide/troubleshooting.html\n"
      ]
     },
     "execution_count": 88,
     "metadata": {},
     "output_type": "execute_result"
    }
   ],
   "source": [
    "# Weekly trends - Low sales on weekends\n",
    "daysInWeek = ['Monday','Tuesday','Wednesday','Thursday','Friday','Saturday','Sunday']\n",
    "alt.Chart(df).mark_rect().encode(\n",
    "    alt.Y('month(Date):O', title='Month'),\n",
    "    alt.X('day_of_week:O', sort=daysInWeek, title='Days of the Week'),\n",
    "    alt.Color('sum(Sales_Amount)', title='Total Sales'),\n",
    "    alt.Tooltip('sum(Sales_Amount)')\n",
    ").properties(\n",
    "    width=250,\n",
    "    height=350\n",
    ")"
   ]
  },
  {
   "cell_type": "code",
   "execution_count": 91,
   "id": "b7ab48b5-290d-4d74-94ee-6281e3106d60",
   "metadata": {},
   "outputs": [
    {
     "data": {
      "application/vnd.vegalite.v4+json": {
       "$schema": "https://vega.github.io/schema/vega-lite/v4.17.0.json",
       "config": {
        "view": {
         "continuousHeight": 300,
         "continuousWidth": 400
        }
       },
       "data": {
        "url": "http://localhost:53686/7570c412ec5096fe359dd7a8ee79196a.json"
       },
       "hconcat": [
        {
         "encoding": {
          "x": {
           "field": "Date",
           "timeUnit": "month",
           "title": "Month",
           "type": "ordinal"
          },
          "y": {
           "aggregate": "sum",
           "field": "Sales_Amount",
           "title": "Total Sales",
           "type": "quantitative"
          }
         },
         "mark": "bar"
        },
        {
         "encoding": {
          "x": {
           "field": "Date",
           "timeUnit": "month",
           "title": "Month",
           "type": "ordinal"
          },
          "y": {
           "aggregate": "sum",
           "field": "profit",
           "title": "Total Profit",
           "type": "quantitative"
          }
         },
         "mark": "bar"
        }
       ]
      },
      "image/png": "[encoded data removed]",
      "text/plain": [
       "<VegaLite 4 object>\n",
       "\n",
       "If you see this message, it means the renderer has not been properly enabled\n",
       "for the frontend that you are using. For more information, see\n",
       "https://altair-viz.github.io/user_guide/troubleshooting.html\n"
      ]
     },
     "execution_count": 91,
     "metadata": {},
     "output_type": "execute_result"
    }
   ],
   "source": [
    "# Identify Seasonality\n",
    "profit_year = alt.Chart(df).mark_bar().encode(\n",
    "    alt.Y('sum(profit)', title='Total Profit'),\n",
    "    alt.X('month(Date):O', title='Month')\n",
    ")\n",
    "\n",
    "sales_year = alt.Chart(df).mark_bar().encode(\n",
    "    alt.Y('sum(Sales_Amount)', title='Total Sales'),\n",
    "    alt.X('month(Date):O', title='Month')\n",
    ")\n",
    "\n",
    "sales_year | profit_year"
   ]
  },
  {
   "cell_type": "code",
   "execution_count": 93,
   "id": "6065faee-0167-4693-b765-415737329dfc",
   "metadata": {},
   "outputs": [
    {
     "data": {
      "application/vnd.vegalite.v4+json": {
       "$schema": "https://vega.github.io/schema/vega-lite/v4.17.0.json",
       "config": {
        "title": {
         "anchor": "start"
        },
        "view": {
         "continuousHeight": 300,
         "continuousWidth": 400
        }
       },
       "data": {
        "url": "http://localhost:53686/37fa09cc11522c985029e2cf48a4003b.json"
       },
       "encoding": {
        "x": {
         "field": "SKU",
         "sort": "-y",
         "type": "nominal"
        },
        "y": {
         "aggregate": "sum",
         "field": "profit",
         "title": "Profit",
         "type": "quantitative"
        }
       },
       "height": 100,
       "mark": "bar",
       "title": "Dresses Profit"
      },
      "image/png": "[encoded data removed]",
      "text/plain": [
       "<VegaLite 4 object>\n",
       "\n",
       "If you see this message, it means the renderer has not been properly enabled\n",
       "for the frontend that you are using. For more information, see\n",
       "https://altair-viz.github.io/user_guide/troubleshooting.html\n"
      ]
     },
     "metadata": {},
     "output_type": "display_data"
    },
    {
     "data": {
      "application/vnd.vegalite.v4+json": {
       "$schema": "https://vega.github.io/schema/vega-lite/v4.17.0.json",
       "config": {
        "title": {
         "anchor": "start"
        },
        "view": {
         "continuousHeight": 300,
         "continuousWidth": 400
        }
       },
       "data": {
        "url": "http://localhost:53686/878b184e0bd7c34da71391b863dd8b86.json"
       },
       "encoding": {
        "x": {
         "field": "SKU",
         "sort": "-y",
         "type": "nominal"
        },
        "y": {
         "aggregate": "sum",
         "field": "profit",
         "title": "Profit",
         "type": "quantitative"
        }
       },
       "height": 100,
       "mark": "bar",
       "title": "Jeans Profit"
      },
      "image/png": "[encoded data removed]",
      "text/plain": [
       "<VegaLite 4 object>\n",
       "\n",
       "If you see this message, it means the renderer has not been properly enabled\n",
       "for the frontend that you are using. For more information, see\n",
       "https://altair-viz.github.io/user_guide/troubleshooting.html\n"
      ]
     },
     "metadata": {},
     "output_type": "display_data"
    },
    {
     "data": {
      "application/vnd.vegalite.v4+json": {
       "$schema": "https://vega.github.io/schema/vega-lite/v4.17.0.json",
       "config": {
        "title": {
         "anchor": "start"
        },
        "view": {
         "continuousHeight": 300,
         "continuousWidth": 400
        }
       },
       "data": {
        "url": "http://localhost:53686/3e7666d9eb039c232e1c1d9add1b279c.json"
       },
       "encoding": {
        "x": {
         "field": "SKU",
         "sort": "-y",
         "type": "nominal"
        },
        "y": {
         "aggregate": "sum",
         "field": "profit",
         "title": "Profit",
         "type": "quantitative"
        }
       },
       "height": 100,
       "mark": "bar",
       "title": "T-shirt Profit"
      },
      "image/png": "[encoded data removed]",
      "text/plain": [
       "<VegaLite 4 object>\n",
       "\n",
       "If you see this message, it means the renderer has not been properly enabled\n",
       "for the frontend that you are using. For more information, see\n",
       "https://altair-viz.github.io/user_guide/troubleshooting.html\n"
      ]
     },
     "metadata": {},
     "output_type": "display_data"
    },
    {
     "data": {
      "application/vnd.vegalite.v4+json": {
       "$schema": "https://vega.github.io/schema/vega-lite/v4.17.0.json",
       "config": {
        "title": {
         "anchor": "start"
        },
        "view": {
         "continuousHeight": 300,
         "continuousWidth": 400
        }
       },
       "data": {
        "url": "http://localhost:53686/60c262a76b800a85562d6c42c55bbecd.json"
       },
       "encoding": {
        "x": {
         "field": "SKU",
         "sort": "-y",
         "type": "nominal"
        },
        "y": {
         "aggregate": "sum",
         "field": "profit",
         "title": "Profit",
         "type": "quantitative"
        }
       },
       "height": 100,
       "mark": "bar",
       "title": "Sunglasses Profit"
      },
      "image/png": "[encoded data removed]",
      "text/plain": [
       "<VegaLite 4 object>\n",
       "\n",
       "If you see this message, it means the renderer has not been properly enabled\n",
       "for the frontend that you are using. For more information, see\n",
       "https://altair-viz.github.io/user_guide/troubleshooting.html\n"
      ]
     },
     "metadata": {},
     "output_type": "display_data"
    }
   ],
   "source": [
    "# Function for ploting Sales/Profit of all lines of products across all categories\n",
    "def plotBarSales(i):\n",
    "    x = df[df['SKU_Category'] == i]\n",
    "    plot = alt.Chart(x).mark_bar().encode(\n",
    "        alt.X('SKU', sort='-y'),\n",
    "        alt.Y('sum(Sales_Amount)')\n",
    "    ).properties(\n",
    "        title=i+'Sales'\n",
    "    ).configure_title(\n",
    "     anchor='start'\n",
    "    )\n",
    "    return plot.display()\n",
    "\n",
    "def plotBarProfit(i):\n",
    "    x = df[df['SKU_Category'] == i]\n",
    "    plot = alt.Chart(x).mark_bar().encode(\n",
    "        alt.X('SKU', sort='-y'),\n",
    "        alt.Y('sum(profit)', title='Profit')\n",
    "    ).properties(\n",
    "        title=i+' Profit'\n",
    "    ).configure_title(\n",
    "    anchor='start'\n",
    "    ).properties(\n",
    "        height=100,\n",
    "    )\n",
    "    return plot.display()\n",
    "\n",
    "for i in ['Dresses', 'Jeans', 'T-shirt', 'Sunglasses']:\n",
    "    plotBarProfit(i)"
   ]
  }
 ],
 "metadata": {
  "kernelspec": {
   "display_name": "Python [conda env:bolt]",
   "language": "python",
   "name": "conda-env-bolt-py"
  },
  "language_info": {
   "codemirror_mode": {
    "name": "ipython",
    "version": 3
   },
   "file_extension": ".py",
   "mimetype": "text/x-python",
   "name": "python",
   "nbconvert_exporter": "python",
   "pygments_lexer": "ipython3",
   "version": "3.11.4"
  }
 },
 "nbformat": 4,
 "nbformat_minor": 5
}
